{
 "cells": [
  {
   "cell_type": "markdown",
   "metadata": {},
   "source": [
    "##### Notion 풀이 : https://www.notion.so/11d2b103d36c80499774c8e6706818ef?pvs=4"
   ]
  },
  {
   "cell_type": "markdown",
   "metadata": {},
   "source": [
    "문제 설명\n",
    "괄호가 바르게 짝지어졌다는 것은 '(' 문자로 열렸으면 반드시 짝지어서 ')' 문자로 닫혀야 한다는 뜻입니다. 예를 들어                    \n",
    "\n",
    "\"()()\" 또는 \"(())()\" 는 올바른 괄호입니다.                          \n",
    "\")()(\" 또는 \"(()(\" 는 올바르지 않은 괄호입니다.                             \n",
    "'(' 또는 ')' 로만 이루어진 문자열 s가 주어졌을 때, 문자열 s가 올바른 괄호이면 true를 return 하고, 올바르지 않은 괄호이면 false를 return 하는 solution 함수를 완성해 주세요.                         \n",
    "\n",
    "제한사항                                    \n",
    "문자열 s의 길이 : 100,000 이하의 자연수                                 \n",
    "문자열 s는 '(' 또는 ')' 로만 이루어져 있습니다.                             \n",
    "입출력 예                       \n",
    "s\tanswer                       \n",
    "\"()()\"\ttrue                       \n",
    "\"(())()\"\ttrue                       \n",
    "\")()(\"\tfalse                       \n",
    "\"(()(\"\tfalse                       \n",
    "입출력 예 설명                       \n",
    "입출력 예 #1,2,3,4                       \n",
    "문제의 예시와 같습니다.                       "
   ]
  },
  {
   "cell_type": "code",
   "execution_count": null,
   "metadata": {},
   "outputs": [],
   "source": [
    "# Scratch\n",
    "# 시작이 '('이 아니거나 끝이 ')'이 아닐 경우 | '('의 개수와 ')'의 개수가 다른 경우 → 올바르지 않은 괄호\n",
    "def solution(s) : \n",
    "    print(s.count('('))\n",
    "    print(s.count(')'))\n",
    "    # return False if s.count('(') != s.count(')')\n",
    "    if s[0] != '(' or s[len(s)-1] != ')' : \n",
    "        return False\n",
    "    return True"
   ]
  },
  {
   "cell_type": "code",
   "execution_count": null,
   "metadata": {},
   "outputs": [],
   "source": [
    "# 위의 코드를 간결하게 작성\n",
    "def solution(s) : \n",
    "    return False if (s[0] != '(' or s[-1] != ')') or (s.count('(') != s.count(')')) else True"
   ]
  },
  {
   "cell_type": "markdown",
   "metadata": {},
   "source": [
    "#### 결과 : 오류             \n",
    "→ 반례 :  \"())((()))(()\"            \n",
    "\n",
    "##### ⇒ 입력값에서 '()'가 있을 경우 제거 → 반복 → 묶음 괄호가 남아있지 않을 때 까지 제거 후 결과가 공백일 경우 True, 그 외의 경우 False"
   ]
  },
  {
   "cell_type": "code",
   "execution_count": 5,
   "metadata": {},
   "outputs": [
    {
     "name": "stdout",
     "output_type": "stream",
     "text": [
      "())((()))(()\n",
      ")(())(\n",
      ")()(\n",
      ")(\n"
     ]
    }
   ],
   "source": [
    "# Scratch 2 (Test)\n",
    "s = \"())((()))(()\"\n",
    "print(s)\n",
    "s = s.replace('()', '')\n",
    "print(s)\n",
    "s = s.replace('()', '')\n",
    "print(s)\n",
    "s = s.replace('()', '')\n",
    "print(s)\n",
    "# print(s.replace('()', ''))\n",
    "# print(s.replace('()', ''))\n",
    "# print(s)"
   ]
  },
  {
   "cell_type": "code",
   "execution_count": 41,
   "metadata": {},
   "outputs": [],
   "source": [
    "def solution(s) : \n",
    "    for i in range(len(s)) : \n",
    "    # while s=='' or s==')('  :\n",
    "    # while (s=='') or (s==')(') : \n",
    "        s = s.replace('()', '')\n",
    "        print(i,':', s)\n",
    "    if s == '': \n",
    "        return True\n",
    "    else :\n",
    "        return False"
   ]
  },
  {
   "cell_type": "code",
   "execution_count": 42,
   "metadata": {},
   "outputs": [],
   "source": [
    "# def solution(s) : \n",
    "#     s = [s for s in s.replace('()', '') if '()' in s]\n",
    "#     print(s)"
   ]
  },
  {
   "cell_type": "code",
   "execution_count": 43,
   "metadata": {},
   "outputs": [
    {
     "data": {
      "text/plain": [
       "False"
      ]
     },
     "execution_count": 43,
     "metadata": {},
     "output_type": "execute_result"
    }
   ],
   "source": [
    "solution(\"()()\")"
   ]
  },
  {
   "cell_type": "code",
   "execution_count": 38,
   "metadata": {},
   "outputs": [
    {
     "name": "stdout",
     "output_type": "stream",
     "text": [
      "0 : ()\n",
      "1 : \n",
      "2 : \n",
      "3 : \n",
      "4 : \n",
      "5 : \n"
     ]
    },
    {
     "data": {
      "text/plain": [
       "True"
      ]
     },
     "execution_count": 38,
     "metadata": {},
     "output_type": "execute_result"
    }
   ],
   "source": [
    "solution(\"(())()\")"
   ]
  },
  {
   "cell_type": "code",
   "execution_count": 39,
   "metadata": {},
   "outputs": [
    {
     "name": "stdout",
     "output_type": "stream",
     "text": [
      "0 : ((\n",
      "1 : ((\n",
      "2 : ((\n",
      "3 : ((\n"
     ]
    },
    {
     "data": {
      "text/plain": [
       "False"
      ]
     },
     "execution_count": 39,
     "metadata": {},
     "output_type": "execute_result"
    }
   ],
   "source": [
    "solution(\"(()(\")"
   ]
  },
  {
   "cell_type": "code",
   "execution_count": 40,
   "metadata": {},
   "outputs": [
    {
     "name": "stdout",
     "output_type": "stream",
     "text": [
      "0 : )(())(\n",
      "1 : )()(\n",
      "2 : )(\n",
      "3 : )(\n",
      "4 : )(\n",
      "5 : )(\n",
      "6 : )(\n",
      "7 : )(\n",
      "8 : )(\n",
      "9 : )(\n",
      "10 : )(\n",
      "11 : )(\n"
     ]
    },
    {
     "data": {
      "text/plain": [
       "False"
      ]
     },
     "execution_count": 40,
     "metadata": {},
     "output_type": "execute_result"
    }
   ],
   "source": [
    "solution(\"())((()))(()\")"
   ]
  },
  {
   "cell_type": "code",
   "execution_count": null,
   "metadata": {},
   "outputs": [],
   "source": [
    "# 두번째 제출 코드\n",
    "def solution(s) : \n",
    "    for i in s : \n",
    "        s = s.replace('()', '')\n",
    "        # print(s)\n",
    "    if s == '': \n",
    "        return True\n",
    "    else :\n",
    "        return False"
   ]
  },
  {
   "cell_type": "markdown",
   "metadata": {},
   "source": [
    "#### 정확성 테스트는 모두 통과, 효율성 테스트에서 시간 초과로 모두 실패.\n",
    "→ 반복문의 횟수 때문에 효율성 테스트를 통과하지 못한다고 생각했는데, replace 함수의 경우 시간 복잡도가 최악의 경우 s.size()*s.size()이기 때문에 효율성 테스트를 통과하지 못하는것 같다.                 \n",
    "참고 레퍼런스 : https://stackoverflow.com/questions/35583983/what-is-the-big-o-notation-for-the-str-replace-function-in-python\n",
    "\n",
    "결론 : 알고리즘 다시 짜기..\n",
    "\n",
    "#### Test 3\n",
    "dtype이 int인 변수 sum을 선언한 뒤, 입력값이 '('일 경우 +1, ')'일 경우 -1을 계산한 sum의 최종값이 0이 아니면 False 반환."
   ]
  },
  {
   "cell_type": "code",
   "execution_count": 1,
   "metadata": {},
   "outputs": [],
   "source": [
    "# Scratch 3\n",
    "def solution(s) : \n",
    "    sum = 0\n",
    "    for i in s : \n",
    "        if sum < 0 :                # 반복문 안의 조건 1 : 입력값이 ')'로 시작할 경우 올바르지 않은 괄호이므로 False 반환.\n",
    "            return False            # ')'가 '('보다 먼저 등장하는 경우를 즉시 감지 → ')'가 '('보다 더 많이 등장해서 짝이 맞지 않음.\n",
    "        if i=='(' :         \n",
    "            sum += 1\n",
    "        elif i==')' : \n",
    "            sum -= 1                # 반복문 안의 조건 2 : 입력값이 '('이면 +1, ')'이면 -1을 해서 짝 맞추기\n",
    "    \n",
    "    if sum !=0 :                    \n",
    "        return False                # 계산 결과가 0이 아닐 경우 올바르지 않은 짝\n",
    "    \n",
    "    return True"
   ]
  },
  {
   "cell_type": "code",
   "execution_count": 6,
   "metadata": {},
   "outputs": [
    {
     "data": {
      "text/plain": [
       "True"
      ]
     },
     "execution_count": 6,
     "metadata": {},
     "output_type": "execute_result"
    }
   ],
   "source": [
    "solution(\"((()))(()())\")"
   ]
  },
  {
   "cell_type": "code",
   "execution_count": 5,
   "metadata": {},
   "outputs": [
    {
     "data": {
      "text/plain": [
       "True"
      ]
     },
     "execution_count": 5,
     "metadata": {},
     "output_type": "execute_result"
    }
   ],
   "source": [
    "solution(\"()((())())\")"
   ]
  },
  {
   "cell_type": "markdown",
   "metadata": {},
   "source": [
    "코드 작성 후 생각해보니 가장 처음에 작성했던 '('의 개수와 ')'의 개수가 다르면 False를 반환하게 했던 코드와 다를게 없었다.               "
   ]
  },
  {
   "cell_type": "markdown",
   "metadata": {},
   "source": [
    "#### Test 4.stack 사용하기"
   ]
  },
  {
   "cell_type": "code",
   "execution_count": null,
   "metadata": {},
   "outputs": [],
   "source": [
    "# Scratch 4\n",
    "# 입력값이 '('일 경우 stack에 입력, ')'일 경우 stack에 입력되어있던 '('를 삭제 → ()의 짝에 맞게 stack에 입력되어 있던 '('들이 삭제됨\n",
    "# ')'이 나왔을 때 stack이 비어있다면 짝이 맞지 않으므로 오류.\n",
    "# stack의 크기가 0이면 올바른 괄호, 아닐 경우 올바르지 않은 괄호\n",
    "def solution(s) : \n",
    "    stack = []\n",
    "    for i in s : \n",
    "        if i == '(' : \n",
    "            stack.append(i)\n",
    "        else :          # i == ')'일 때\n",
    "            if not stack :          # stack이 비어있으면 False + not → stack이 비어있으면 True, 즉 stack이 비어있을 경우\n",
    "                return False        # ')'와 짝이 맞지 않으므로 올바르지 않은 괄호.\n",
    "            stack.pop()             # stack이 값('(')을 가지고 있다면 ')'와 짝이 맞으므로 올바른 괄호. → 입력되어 있던'(' 삭제\n",
    "    # if len(stack) == 0 : \n",
    "    #     return True\n",
    "    return len(stack) == 0          # stack이 비어있다면 짝이 맞으므로 True, 비어있지 않다면 False 반환."
   ]
  }
 ],
 "metadata": {
  "kernelspec": {
   "display_name": "Python 3",
   "language": "python",
   "name": "python3"
  },
  "language_info": {
   "codemirror_mode": {
    "name": "ipython",
    "version": 3
   },
   "file_extension": ".py",
   "mimetype": "text/x-python",
   "name": "python",
   "nbconvert_exporter": "python",
   "pygments_lexer": "ipython3",
   "version": "3.11.9"
  }
 },
 "nbformat": 4,
 "nbformat_minor": 2
}
