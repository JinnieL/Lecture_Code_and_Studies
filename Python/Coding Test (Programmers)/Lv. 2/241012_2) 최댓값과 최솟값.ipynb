{
 "cells": [
  {
   "cell_type": "markdown",
   "metadata": {},
   "source": [
    "##### Notion 풀이 : https://www.notion.so/11d2b103d36c80499774c8e6706818ef?pvs=4"
   ]
  },
  {
   "cell_type": "markdown",
   "metadata": {},
   "source": [
    "문제 설명               \n",
    "문자열 s에는 공백으로 구분된 숫자들이 저장되어 있습니다. str에 나타나는 숫자 중 최소값과 최대값을 찾아 이를 \"(최소값) (최대값)\"형태의 문자열을 반환하는 함수, solution을 완성하세요.                \n",
    "예를들어 s가 \"1 2 3 4\"라면 \"1 4\"를 리턴하고, \"-1 -2 -3 -4\"라면 \"-4 -1\"을 리턴하면 됩니다.               \n",
    "\n",
    "제한 조건           \n",
    "s에는 둘 이상의 정수가 공백으로 구분되어 있습니다.          \n",
    "입출력 예               \n",
    "s\treturn              \n",
    "\"1 2 3 4\"\t\"1 4\"               \n",
    "\"-1 -2 -3 -4\"\t\"-4 -1\"             \n",
    "\"-1 -1\"\t\"-1 -1\""
   ]
  },
  {
   "cell_type": "code",
   "execution_count": 1,
   "metadata": {},
   "outputs": [
    {
     "name": "stdout",
     "output_type": "stream",
     "text": [
      "1\n",
      " \n",
      "2\n",
      " \n",
      "3\n",
      " \n",
      "4\n"
     ]
    }
   ],
   "source": [
    "# Scratch\n",
    "x = '1 2 3 4'\n",
    "for x in str(x) : \n",
    "    print(x)"
   ]
  },
  {
   "cell_type": "code",
   "execution_count": 46,
   "metadata": {},
   "outputs": [
    {
     "name": "stdout",
     "output_type": "stream",
     "text": [
      "-1-2-3-4\n"
     ]
    }
   ],
   "source": [
    "# 공백 제거 -> 음수일 경우에 계산하기가 힘들다.\n",
    "x = '-1 -2 -3 -4'\n",
    "print(x.replace(' ', ''))\n"
   ]
  },
  {
   "cell_type": "code",
   "execution_count": 55,
   "metadata": {},
   "outputs": [
    {
     "name": "stdout",
     "output_type": "stream",
     "text": [
      "[0, 3, -94, -2]\n",
      "-94 3\n"
     ]
    }
   ],
   "source": [
    "# 공백 기준으로 자르기\n",
    "x = '0 3 -94 -2'\n",
    "# x = x.split()\n",
    "# print(x)\n",
    "int_x = [int(x) for x in x.split()]\n",
    "print(int_x)\n",
    "print(min(int_x), max(int_x))"
   ]
  },
  {
   "cell_type": "code",
   "execution_count": 56,
   "metadata": {},
   "outputs": [],
   "source": [
    "# Solution\n",
    "def solution(s) : \n",
    "    return '{0} {1}'.format(min([int(s) for s in s.split()]), max([int(s) for s in s.split()]))"
   ]
  },
  {
   "cell_type": "code",
   "execution_count": 57,
   "metadata": {},
   "outputs": [
    {
     "data": {
      "text/plain": [
       "'1 4'"
      ]
     },
     "execution_count": 57,
     "metadata": {},
     "output_type": "execute_result"
    }
   ],
   "source": [
    "solution(\"1 2 3 4\")"
   ]
  },
  {
   "cell_type": "code",
   "execution_count": 58,
   "metadata": {},
   "outputs": [
    {
     "data": {
      "text/plain": [
       "'-4 -1'"
      ]
     },
     "execution_count": 58,
     "metadata": {},
     "output_type": "execute_result"
    }
   ],
   "source": [
    "solution(\"-1 -2 -3 -4\")"
   ]
  },
  {
   "cell_type": "code",
   "execution_count": 59,
   "metadata": {},
   "outputs": [
    {
     "data": {
      "text/plain": [
       "'-94 3'"
      ]
     },
     "execution_count": 59,
     "metadata": {},
     "output_type": "execute_result"
    }
   ],
   "source": [
    "solution('0 3 -94 -2')"
   ]
  },
  {
   "cell_type": "markdown",
   "metadata": {},
   "source": [
    "다른 풀이"
   ]
  },
  {
   "cell_type": "code",
   "execution_count": 62,
   "metadata": {},
   "outputs": [],
   "source": [
    "# map 함수 사용 풀이 참고하여 다시 작성\n",
    "def solution(s) : \n",
    "    s = list(map(int, s.split()))\n",
    "    return str(min(s)) + ' ' + str(max(s))"
   ]
  },
  {
   "cell_type": "code",
   "execution_count": 63,
   "metadata": {},
   "outputs": [
    {
     "data": {
      "text/plain": [
       "'1 4'"
      ]
     },
     "execution_count": 63,
     "metadata": {},
     "output_type": "execute_result"
    }
   ],
   "source": [
    "solution(\"1 2 3 4\")"
   ]
  },
  {
   "cell_type": "code",
   "execution_count": 64,
   "metadata": {},
   "outputs": [
    {
     "data": {
      "text/plain": [
       "'-4 -1'"
      ]
     },
     "execution_count": 64,
     "metadata": {},
     "output_type": "execute_result"
    }
   ],
   "source": [
    "solution(\"-1 -2 -3 -4\")"
   ]
  },
  {
   "cell_type": "code",
   "execution_count": 65,
   "metadata": {},
   "outputs": [
    {
     "data": {
      "text/plain": [
       "'-94 3'"
      ]
     },
     "execution_count": 65,
     "metadata": {},
     "output_type": "execute_result"
    }
   ],
   "source": [
    "solution('0 3 -94 -2')"
   ]
  },
  {
   "cell_type": "code",
   "execution_count": null,
   "metadata": {},
   "outputs": [],
   "source": []
  }
 ],
 "metadata": {
  "kernelspec": {
   "display_name": "Python 3",
   "language": "python",
   "name": "python3"
  },
  "language_info": {
   "codemirror_mode": {
    "name": "ipython",
    "version": 3
   },
   "file_extension": ".py",
   "mimetype": "text/x-python",
   "name": "python",
   "nbconvert_exporter": "python",
   "pygments_lexer": "ipython3",
   "version": "3.11.9"
  }
 },
 "nbformat": 4,
 "nbformat_minor": 2
}
