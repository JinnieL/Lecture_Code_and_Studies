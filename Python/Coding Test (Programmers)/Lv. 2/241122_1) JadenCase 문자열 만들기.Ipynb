{
 "cells": [
  {
   "cell_type": "markdown",
   "metadata": {},
   "source": [
    "JadenCase란 모든 단어의 첫 문자가 대문자이고, 그 외의 알파벳은 소문자인 문자열입니다. 단, 첫 문자가 알파벳이 아닐 때에는 이어지는 알파벳은 소문자로 쓰면 됩니다. (첫 번째 입출력 예 참고)\n",
    "문자열 s가 주어졌을 때, s를 JadenCase로 바꾼 문자열을 리턴하는 함수, solution을 완성해주세요.                   \n",
    "\n",
    "제한 조건                   \n",
    "s는 길이 1 이상 200 이하인 문자열입니다.                        \n",
    "s는 알파벳과 숫자, 공백문자(\" \")로 이루어져 있습니다.                       \n",
    "숫자는 단어의 첫 문자로만 나옵니다.                 \n",
    "숫자로만 이루어진 단어는 없습니다.                      \n",
    "공백문자가 연속해서 나올 수 있습니다.                   \n",
    "\n",
    "입출력 예                   \n",
    "s\treturn                      \n",
    "\"3people unFollowed me\"\t\"3people Unfollowed Me\"                     \n",
    "\"for the last week\"\t\"For The Last Week\""
   ]
  },
  {
   "cell_type": "code",
   "execution_count": 22,
   "metadata": {},
   "outputs": [],
   "source": [
    "def solution(s):\n",
    "    # answer = ''\n",
    "    # return answer\n",
    "    \n",
    "    ## test\n",
    "    # print(s.split())\n",
    "    # print(s.split()[0])\n",
    "    # print(s.split()[0][0])\n",
    "    \n",
    "    s_list = s.split()\n",
    "    for i in s_list : \n",
    "        if i[0].isdigit() : \n",
    "            return i\n",
    "        else : \n",
    "            return i[0].upper()"
   ]
  },
  {
   "cell_type": "code",
   "execution_count": 23,
   "metadata": {},
   "outputs": [
    {
     "data": {
      "text/plain": [
       "'3people'"
      ]
     },
     "execution_count": 23,
     "metadata": {},
     "output_type": "execute_result"
    }
   ],
   "source": [
    "s = \"3people unFollowed me\"\n",
    "solution(s)"
   ]
  },
  {
   "cell_type": "code",
   "execution_count": 24,
   "metadata": {},
   "outputs": [
    {
     "name": "stdout",
     "output_type": "stream",
     "text": [
      "['3people', 'unFollowed', 'me']\n",
      "3people\n",
      "u\n",
      "['3people', 'unFollowed', 'me']\n"
     ]
    }
   ],
   "source": [
    "s = \"3people unFollowed me\"\n",
    "s_list = s.split()\n",
    "print(s.split())\n",
    "print(s.split()[0])\n",
    "print(s.split()[1][0])\n",
    "print(s_list)"
   ]
  },
  {
   "cell_type": "code",
   "execution_count": 25,
   "metadata": {},
   "outputs": [
    {
     "name": "stdout",
     "output_type": "stream",
     "text": [
      "3people\n",
      "Unfollowed\n",
      "Me\n"
     ]
    }
   ],
   "source": [
    "s_list = s.split()\n",
    "for i in s_list : \n",
    "    if i[0].isdigit() : \n",
    "        # return i\n",
    "        print(i)\n",
    "    else : \n",
    "        # return i[0].upper()\n",
    "        s = i[0].upper() + i[1:].lower()\n",
    "        print(s)"
   ]
  },
  {
   "cell_type": "code",
   "execution_count": 26,
   "metadata": {},
   "outputs": [],
   "source": [
    "def solution(s):    \n",
    "    answer = ''\n",
    "    for i in s.split() : \n",
    "        if i[0].isdigit() : \n",
    "            # print(i)\n",
    "            answer += (i + ' ' )\n",
    "        else : \n",
    "            s = i[0].upper() + i[1:].lower()\n",
    "            # print(s)\n",
    "            answer += (s + ' ')\n",
    "    return answer"
   ]
  },
  {
   "cell_type": "code",
   "execution_count": 27,
   "metadata": {},
   "outputs": [
    {
     "data": {
      "text/plain": [
       "'3people Unfollowed Me '"
      ]
     },
     "execution_count": 27,
     "metadata": {},
     "output_type": "execute_result"
    }
   ],
   "source": [
    "s = \"3people unFollowed me\"\n",
    "solution(s)"
   ]
  },
  {
   "cell_type": "markdown",
   "metadata": {},
   "source": [
    "마지막 띄어쓰기 때문에 오류나는듯"
   ]
  },
  {
   "cell_type": "code",
   "execution_count": 28,
   "metadata": {},
   "outputs": [],
   "source": [
    "def solution(s):\n",
    "    s_list = []\n",
    "    print(s.split())\n",
    "    for i in s.split() : \n",
    "        if not i[0].isalpha() : \n",
    "            i = i[0] + i[1:].lower()\n",
    "            s_list.append(i)\n",
    "        else : \n",
    "            i = i[0].upper() + i[1:].lower()\n",
    "            s_list.append(i)\n",
    "    return ' '.join(s_list)"
   ]
  },
  {
   "cell_type": "code",
   "execution_count": 29,
   "metadata": {},
   "outputs": [
    {
     "name": "stdout",
     "output_type": "stream",
     "text": [
      "['for', 'the', 'last', 'week']\n"
     ]
    },
    {
     "data": {
      "text/plain": [
       "'For The Last Week'"
      ]
     },
     "execution_count": 29,
     "metadata": {},
     "output_type": "execute_result"
    }
   ],
   "source": [
    "s = \"3people unFollowed me\"\n",
    "s  =\"for the last week\"\n",
    "solution(s)"
   ]
  },
  {
   "cell_type": "markdown",
   "metadata": {},
   "source": [
    "채점결과 : 정확성 44.4 / 100"
   ]
  },
  {
   "cell_type": "code",
   "execution_count": 30,
   "metadata": {},
   "outputs": [
    {
     "name": "stdout",
     "output_type": "stream",
     "text": [
      "['for', 'the', 'what', '1wHat', '2Done']\n"
     ]
    },
    {
     "data": {
      "text/plain": [
       "'For The What 1what 2done'"
      ]
     },
     "execution_count": 30,
     "metadata": {},
     "output_type": "execute_result"
    }
   ],
   "source": [
    "# 반례\n",
    "# 입력값 〉   \"  for the what  1wHat  2Done    \"           \n",
    "# 기댓값 〉   \"  For The What  1what  2done    \"\n",
    "s = \"  for the what  1wHat  2Done    \"\n",
    "solution(s)"
   ]
  },
  {
   "cell_type": "code",
   "execution_count": 31,
   "metadata": {},
   "outputs": [
    {
     "name": "stdout",
     "output_type": "stream",
     "text": [
      "for\n",
      "the\n",
      "what\n",
      "1what\n"
     ]
    }
   ],
   "source": [
    "s = \"  for the what  1what  \"\n",
    "for i in s.split() : \n",
    "    print(i)"
   ]
  },
  {
   "cell_type": "code",
   "execution_count": 32,
   "metadata": {},
   "outputs": [
    {
     "name": "stdout",
     "output_type": "stream",
     "text": [
      "  \n"
     ]
    }
   ],
   "source": [
    "s = '  '\n",
    "print(s.lower())"
   ]
  },
  {
   "cell_type": "markdown",
   "metadata": {},
   "source": [
    "고려해야 할 조건            \n",
    "1. 숫자는 단어의 첫 문자로만 등장\n",
    "2. 숫자 다음은 소문자\n",
    "3. 그 외 첫 문자는 대문자, 나머지 알파벳은 소문자\n",
    "4. s는 알파벳, 숫자, 공백으로 구성.         \n",
    "※ 공백을 고려해서 함수 작성해야함!!"
   ]
  },
  {
   "cell_type": "code",
   "execution_count": 46,
   "metadata": {},
   "outputs": [],
   "source": [
    "# 문자열에서 공백이 등장할 경우 그대로 list에 추가하면 되지 않나\n",
    "def solution(s) : \n",
    "    s_list = []\n",
    "    for i in s : \n",
    "        if i == ' ' : \n",
    "            s_list.append(i)\n",
    "        else : \n",
    "            # for i in s.split() : \n",
    "                if not i[0].isalpha() : \n",
    "                    i = i[0] + i[1:].lower()\n",
    "                    s_list.append(i)\n",
    "                else : \n",
    "                    i = i[0].upper() + i[1:].lower()\n",
    "                    s_list.append(i)\n",
    "    return ' '.join(s_list)"
   ]
  },
  {
   "cell_type": "code",
   "execution_count": 47,
   "metadata": {},
   "outputs": [
    {
     "data": {
      "text/plain": [
       "'    F O R   T H E   W H A T     1 W H A T     2 D O N E        '"
      ]
     },
     "execution_count": 47,
     "metadata": {},
     "output_type": "execute_result"
    }
   ],
   "source": [
    "s = \"  for the what  1wHat  2Done    \"\n",
    "solution(s)"
   ]
  },
  {
   "cell_type": "markdown",
   "metadata": {},
   "source": [
    "안된다.     \n",
    "\n",
    "#### 엄청난 실수 발견\n",
    "## split() vs split(' ')"
   ]
  },
  {
   "cell_type": "code",
   "execution_count": 79,
   "metadata": {},
   "outputs": [],
   "source": [
    "def solution(s):\n",
    "    s_list = []\n",
    "    for i in s.split(' ') :\n",
    "        if i == '' : \n",
    "            s_list.append(i)\n",
    "        else : \n",
    "            if not i[0].isalpha() : \n",
    "                i = i[0] + i[1:].lower()\n",
    "                s_list.append(i)\n",
    "            else : \n",
    "                i = i[0].upper() + i[1:].lower()\n",
    "                s_list.append(i)\n",
    "    return ' '.join(s_list)"
   ]
  },
  {
   "cell_type": "code",
   "execution_count": 82,
   "metadata": {},
   "outputs": [
    {
     "data": {
      "text/plain": [
       "'  For The What  1what  2done    '"
      ]
     },
     "execution_count": 82,
     "metadata": {},
     "output_type": "execute_result"
    }
   ],
   "source": [
    "s = \"  for the what  1wHat  2Done    \"\n",
    "solution(s)"
   ]
  },
  {
   "cell_type": "code",
   "execution_count": null,
   "metadata": {},
   "outputs": [],
   "source": []
  }
 ],
 "metadata": {
  "kernelspec": {
   "display_name": "Python 3",
   "language": "python",
   "name": "python3"
  },
  "language_info": {
   "codemirror_mode": {
    "name": "ipython",
    "version": 3
   },
   "file_extension": ".py",
   "mimetype": "text/x-python",
   "name": "python",
   "nbconvert_exporter": "python",
   "pygments_lexer": "ipython3",
   "version": "3.11.9"
  }
 },
 "nbformat": 4,
 "nbformat_minor": 2
}
