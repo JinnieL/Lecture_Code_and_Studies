{
 "cells": [
  {
   "cell_type": "markdown",
   "metadata": {},
   "source": [
    "길이가 같은 배열 A, B 두개가 있습니다. 각 배열은 자연수로 이루어져 있습니다.                \n",
    "배열 A, B에서 각각 한 개의 숫자를 뽑아 두 수를 곱합니다. 이러한 과정을 배열의 길이만큼 반복하며, 두 수를 곱한 값을 누적하여 더합니다. 이때 최종적으로 누적된 값이 최소가 되도록 만드는 것이 목표입니다. (단, 각 배열에서 k번째 숫자를 뽑았다면 다음에 k번째 숫자는 다시 뽑을 수 없습니다.)                  \n",
    "\n",
    "예를 들어 A = [1, 4, 2] , B = [5, 4, 4] 라면                \n",
    "\n",
    "A에서 첫번째 숫자인 1, B에서 첫번째 숫자인 5를 뽑아 곱하여 더합니다. (누적된 값 : 0 + 5(1x5) = 5)           \n",
    "A에서 두번째 숫자인 4, B에서 세번째 숫자인 4를 뽑아 곱하여 더합니다. (누적된 값 : 5 + 16(4x4) = 21)             \n",
    "A에서 세번째 숫자인 2, B에서 두번째 숫자인 4를 뽑아 곱하여 더합니다. (누적된 값 : 21 + 8(2x4) = 29)         \n",
    "즉, 이 경우가 최소가 되므로 29를 return 합니다.         \n",
    "\n",
    "배열 A, B가 주어질 때 최종적으로 누적된 최솟값을 return 하는 solution 함수를 완성해 주세요.             \n",
    "\n",
    "제한사항            \n",
    "배열 A, B의 크기 : 1,000 이하의 자연수              \n",
    "배열 A, B의 원소의 크기 : 1,000 이하의 자연수               \n",
    "입출력 예           \n",
    "A\tB\tanswer              \n",
    "[1, 4, 2]\t[5, 4, 4]\t29              \n",
    "[1,2]\t[3,4]\t10              \n",
    "입출력 예 설명              \n",
    "입출력 예 #1            \n",
    "문제의 예시와 같습니다.             \n",
    "\n",
    "입출력 예 #2                \n",
    "A에서 첫번째 숫자인 1, B에서 두번째 숫자인 4를 뽑아 곱하여 더합니다. (누적된 값 : 4) 다음, A에서 두번째 숫자인 2, B에서 첫번째 숫자인 3을 뽑아 곱하여 더합니다. (누적된 값 : 4 + 6 = 10)                \n",
    "이 경우가 최소이므로 10을 return 합니다.                "
   ]
  },
  {
   "cell_type": "markdown",
   "metadata": {},
   "source": [
    "#### Scratch Coding"
   ]
  },
  {
   "cell_type": "code",
   "execution_count": 1,
   "metadata": {},
   "outputs": [],
   "source": [
    "# 각 배열에서 첫번째 배열은 최댓값 갱신하며 찾고, 두번째 배열은 최솟값 갱신하며 찾아서 곱해서 합하면 되지 않을까?\n",
    "# 첫번째 배열의 최댓값 * 두번째 배열의 최솟값\n",
    "def solution(A,B):\n",
    "    answer = 0\n",
    "    \n",
    "    # 각 배열의 최솟값 * 최댓값 갱신하며 곱하기, 누적합\n",
    "    for i in range(len(A)) :  \n",
    "        max_A = max(A)\n",
    "        min_B = min(B)\n",
    "        answer += (max_A * min_B)\n",
    "        A.remove(max(A))\n",
    "        B.remove(min(B))        \n",
    "    return answer"
   ]
  },
  {
   "cell_type": "code",
   "execution_count": 3,
   "metadata": {},
   "outputs": [
    {
     "data": {
      "text/plain": [
       "29"
      ]
     },
     "execution_count": 3,
     "metadata": {},
     "output_type": "execute_result"
    }
   ],
   "source": [
    "A = [1, 4, 2]\n",
    "B = [5, 4, 4] \n",
    "solution(A, B)"
   ]
  },
  {
   "cell_type": "code",
   "execution_count": 4,
   "metadata": {},
   "outputs": [
    {
     "data": {
      "text/plain": [
       "10"
      ]
     },
     "execution_count": 4,
     "metadata": {},
     "output_type": "execute_result"
    }
   ],
   "source": [
    "A = [1,2]\n",
    "B = [3,4]\n",
    "solution(A, B)"
   ]
  },
  {
   "cell_type": "markdown",
   "metadata": {},
   "source": [
    "채점 결과               \n",
    "정확성 테스트 69.6              \n",
    "효율성 0.0 (시간 초과)             "
   ]
  },
  {
   "cell_type": "markdown",
   "metadata": {},
   "source": [
    "------\n",
    "#### 코드 수정 (다른 사람들 질문하기 내용 참고)\n",
    "문제에서 간과한 조건 : (단, 각 배열에서 k번째 숫자를 뽑았다면 다음에 k번째 숫자는 다시 뽑을 수 없습니다.)               \n",
    "1차 스크래치 코드에서 최댓값/최솟값을 갱신 후 단순 삭제했기 때문에 k번째 숫자가 다시 뽑힐 가능성 존재.          \n",
    "##### → 각 배열을 하나는 내림차순 정렬 / 나머지는 오름차순 정렬해서 각 인덱스끼리 곱하고 누적합."
   ]
  },
  {
   "cell_type": "code",
   "execution_count": null,
   "metadata": {},
   "outputs": [],
   "source": [
    "def solution(A, B) : \n",
    "    answer = 0\n",
    "    A = sorted(A)\n",
    "    B = sorted(B, reverse=True)\n",
    "    for i in range(len(A)) : \n",
    "        answer += (A[i] * B[i])\n",
    "    return answer"
   ]
  },
  {
   "cell_type": "code",
   "execution_count": null,
   "metadata": {},
   "outputs": [],
   "source": [
    "# list comprehension을 이용한 코드 간결화 - 똑같이 효율성 테스트 불통. : 정렬 함수가 반복적으로 사용되는 문제\n",
    "def solution(A, B):\n",
    "    return sum([sorted(A)[i] * sorted(B, reverse=True)[i] for i in range(len(A))])"
   ]
  },
  {
   "cell_type": "code",
   "execution_count": null,
   "metadata": {},
   "outputs": [],
   "source": [
    "def solution(A, B) :\n",
    "    A = sorted(A)\n",
    "    B = sorted(B, reverse=True)\n",
    "    return sum([A[i] * B[i] for i in range(len(A))])"
   ]
  },
  {
   "cell_type": "code",
   "execution_count": 39,
   "metadata": {},
   "outputs": [],
   "source": [
    "# 한줄 코딩 : map & lambda / zip 사용\n",
    "\n",
    "# map & lambda 사용\n",
    "def solution(A, B) : \n",
    "    return sum(map(lambda a, b : a * b, sorted(A), sorted(B, reverse=True)))"
   ]
  },
  {
   "cell_type": "code",
   "execution_count": 40,
   "metadata": {},
   "outputs": [
    {
     "data": {
      "text/plain": [
       "29"
      ]
     },
     "execution_count": 40,
     "metadata": {},
     "output_type": "execute_result"
    }
   ],
   "source": [
    "A = [1, 4, 2]\n",
    "B = [5, 4, 4] \n",
    "solution(A, B)"
   ]
  },
  {
   "cell_type": "code",
   "execution_count": 41,
   "metadata": {},
   "outputs": [
    {
     "data": {
      "text/plain": [
       "10"
      ]
     },
     "execution_count": 41,
     "metadata": {},
     "output_type": "execute_result"
    }
   ],
   "source": [
    "A = [1,2]\n",
    "B = [3,4]\n",
    "solution(A, B)"
   ]
  },
  {
   "cell_type": "code",
   "execution_count": 42,
   "metadata": {},
   "outputs": [],
   "source": [
    "# zip 사용\n",
    "def solution(A, B) : \n",
    "    return sum([i*j for i, j in zip(sorted(A), sorted(B, reverse=True))])"
   ]
  },
  {
   "cell_type": "code",
   "execution_count": 43,
   "metadata": {},
   "outputs": [
    {
     "data": {
      "text/plain": [
       "29"
      ]
     },
     "execution_count": 43,
     "metadata": {},
     "output_type": "execute_result"
    }
   ],
   "source": [
    "A = [1, 4, 2]\n",
    "B = [5, 4, 4] \n",
    "solution(A, B)"
   ]
  },
  {
   "cell_type": "code",
   "execution_count": 45,
   "metadata": {},
   "outputs": [
    {
     "data": {
      "text/plain": [
       "10"
      ]
     },
     "execution_count": 45,
     "metadata": {},
     "output_type": "execute_result"
    }
   ],
   "source": [
    "A = [1,2]\n",
    "B = [3,4]\n",
    "solution(A, B)"
   ]
  }
 ],
 "metadata": {
  "kernelspec": {
   "display_name": "Python 3",
   "language": "python",
   "name": "python3"
  },
  "language_info": {
   "codemirror_mode": {
    "name": "ipython",
    "version": 3
   },
   "file_extension": ".py",
   "mimetype": "text/x-python",
   "name": "python",
   "nbconvert_exporter": "python",
   "pygments_lexer": "ipython3",
   "version": "3.11.9"
  }
 },
 "nbformat": 4,
 "nbformat_minor": 2
}
