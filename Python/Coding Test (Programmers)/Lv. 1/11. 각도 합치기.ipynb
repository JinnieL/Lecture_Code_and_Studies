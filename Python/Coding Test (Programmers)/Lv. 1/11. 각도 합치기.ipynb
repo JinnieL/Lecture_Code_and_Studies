{
 "cells": [
  {
   "cell_type": "markdown",
   "metadata": {},
   "source": [
    "PCCE 기출문제\n",
    "### 풀이 날짜 : 2024.09.06\n",
    "### 소요 시간 : \n",
    "##### Notion 풀이 : https://www.notion.so/1c371d3ca2274dfebe9f3b66da9595e0?pvs=4"
   ]
  },
  {
   "cell_type": "code",
   "execution_count": 22,
   "metadata": {},
   "outputs": [
    {
     "name": "stdout",
     "output_type": "stream",
     "text": [
      "0\n"
     ]
    }
   ],
   "source": [
    "# sum angle보다 작은 360의 배수를 빼면 된다\n",
    "angle1 = int(input())\n",
    "angle2 = int(input())\n",
    "\n",
    "sum_angle = [angle1 + angle2 - 360 * i for i in range(10000) if 360*i <= angle1+angle2][-1]\n",
    "print(sum_angle)"
   ]
  },
  {
   "cell_type": "code",
   "execution_count": 23,
   "metadata": {},
   "outputs": [
    {
     "name": "stdout",
     "output_type": "stream",
     "text": [
      "30\n"
     ]
    }
   ],
   "source": [
    "# 쉬운길 놔두고 어렵게 가기~\n",
    "# 빼기의 연속은 뭐다? 나눗셈이다^^\n",
    "angle1 = int(input())\n",
    "angle2 = int(input())\n",
    "\n",
    "sum_angle = (angle1 + angle2) % 360\n",
    "print(sum_angle)"
   ]
  }
 ],
 "metadata": {
  "kernelspec": {
   "display_name": "Python 3",
   "language": "python",
   "name": "python3"
  },
  "language_info": {
   "codemirror_mode": {
    "name": "ipython",
    "version": 3
   },
   "file_extension": ".py",
   "mimetype": "text/x-python",
   "name": "python",
   "nbconvert_exporter": "python",
   "pygments_lexer": "ipython3",
   "version": "3.11.9"
  }
 },
 "nbformat": 4,
 "nbformat_minor": 2
}
