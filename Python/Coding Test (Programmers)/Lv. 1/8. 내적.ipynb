{
 "cells": [
  {
   "cell_type": "markdown",
   "metadata": {},
   "source": [
    "월간 코드 챌린지 시즌 1\n",
    "### 풀이 날짜 : 2024.09.06\n",
    "### 소요 시간 : 4m\n",
    "##### Notion 풀이 : https://www.notion.so/286ad178e53d492dbc4411338a1c991e?pvs=4"
   ]
  },
  {
   "cell_type": "markdown",
   "metadata": {},
   "source": [
    "문제 설명\n",
    "길이가 같은 두 1차원 정수 배열 a, b가 매개변수로 주어집니다. a와 b의 내적을 return 하도록 solution 함수를 완성해주세요.\n",
    "\n",
    "이때, a와 b의 내적은 a[0]*b[0] + a[1]*b[1] + ... + a[n-1]*b[n-1] 입니다. (n은 a, b의 길이)\n",
    "\n",
    "제한사항\n",
    "a, b의 길이는 1 이상 1,000 이하입니다.\n",
    "a, b의 모든 수는 -1,000 이상 1,000 이하입니다.\n",
    "입출력 예\n",
    "a\tb\tresult\n",
    "[1,2,3,4]\t[-3,-1,0,2]\t3\n",
    "[-1,0,1]\t[1,0,-1]\t-2\n",
    "입출력 예 설명\n",
    "입출력 예 #1\n",
    "\n",
    "a와 b의 내적은 1*(-3) + 2*(-1) + 3*0 + 4*2 = 3 입니다.\n",
    "입출력 예 #2\n",
    "\n",
    "a와 b의 내적은 (-1)*1 + 0*0 + 1*(-1) = -2 입니다."
   ]
  },
  {
   "cell_type": "code",
   "execution_count": 3,
   "metadata": {},
   "outputs": [
    {
     "name": "stdout",
     "output_type": "stream",
     "text": [
      "3\n"
     ]
    }
   ],
   "source": [
    "a = [1,2,3,4]\n",
    "b = [-3,-1,0,2]\n",
    "\n",
    "answer = [c*d for c, d in zip(a,b)]\n",
    "print(sum(answer))"
   ]
  },
  {
   "cell_type": "code",
   "execution_count": null,
   "metadata": {},
   "outputs": [],
   "source": [
    "def solution(a, b):\n",
    "\n",
    "    return sum([x*y for x, y in zip(a,b)])"
   ]
  },
  {
   "cell_type": "code",
   "execution_count": null,
   "metadata": {},
   "outputs": [],
   "source": [
    "solution = lambda x, y: sum(a*b for a, b in zip(x, y))"
   ]
  }
 ],
 "metadata": {
  "kernelspec": {
   "display_name": "Python 3",
   "language": "python",
   "name": "python3"
  },
  "language_info": {
   "codemirror_mode": {
    "name": "ipython",
    "version": 3
   },
   "file_extension": ".py",
   "mimetype": "text/x-python",
   "name": "python",
   "nbconvert_exporter": "python",
   "pygments_lexer": "ipython3",
   "version": "3.11.9"
  }
 },
 "nbformat": 4,
 "nbformat_minor": 2
}
