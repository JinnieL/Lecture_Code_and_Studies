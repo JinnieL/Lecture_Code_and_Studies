{
 "cells": [
  {
   "cell_type": "markdown",
   "metadata": {},
   "source": [
    "월간 코드 챌린지 시즌 2\n",
    "### 풀이 날짜 : 2024.09.06\n",
    "### 소요 시간 : -\n",
    "##### Notion 풀이 : https://www.notion.so/2eefa78aa96e48448a944de74eb34ef6?pvs=4"
   ]
  },
  {
   "cell_type": "markdown",
   "metadata": {},
   "source": [
    "문제 설명               \n",
    "두 정수 left와 right가 매개변수로 주어집니다. left부터 right까지의 모든 수들 중에서, 약수의 개수가 짝수인 수는 더하고, 약수의 개수가 홀수인 수는 뺀 수를 return 하도록 solution 함수를 완성해주세요.                \n",
    "\n",
    "제한사항            \n",
    "1 ≤ left ≤ right ≤ 1,000            \n",
    "입출력 예           \n",
    "left\tright\tresult          \n",
    "13\t17\t43          \n",
    "24\t27\t52          \n",
    "입출력 예 설명          \n",
    "입출력 예 #1            \n",
    "\n",
    "다음 표는 13부터 17까지의 수들의 약수를 모두 나타낸 것입니다.           \n",
    "수\t약수\t약수의 개수         \n",
    "13\t1, 13\t2           \n",
    "14\t1, 2, 7, 14\t4           \n",
    "15\t1, 3, 5, 15\t4           \n",
    "16\t1, 2, 4, 8, 16\t5           \n",
    "17\t1, 17\t2           \n",
    "따라서, 13 + 14 + 15 - 16 + 17 = 43을 return 해야 합니다.               \n",
    "입출력 예 #2            \n",
    "\n",
    "다음 표는 24부터 27까지의 수들의 약수를 모두 나타낸 것입니다.               \n",
    "수\t약수\t약수의 개수         \n",
    "24\t1, 2, 3, 4, 6, 8, 12, 24\t8           \n",
    "25\t1, 5, 25\t3           \n",
    "26\t1, 2, 13, 26\t4               \n",
    "27\t1, 3, 9, 27\t4               \n",
    "따라서, 24 - 25 + 26 + 27 = 52를 return 해야 합니다.            "
   ]
  },
  {
   "cell_type": "code",
   "execution_count": 13,
   "metadata": {},
   "outputs": [],
   "source": [
    "# 약수의 개수? → 다른 사람 풀이 참고 (반복문으로 찾기)\n",
    "def solution(left, right):\n",
    "    answer = 0\n",
    "    # left ~ right 숫자들의 약수 개수 구하기\n",
    "    for i in range(left, right+1) : \n",
    "        # 약수 개수 계산하기\n",
    "        count = []\n",
    "        for j in range(1, i+1) : \n",
    "            if i % j == 0 : \n",
    "                count.append(j)\n",
    "        if len(count) % 2 == 0 : \n",
    "            answer += i\n",
    "        else : \n",
    "            answer -= i\n",
    "    return answer\n"
   ]
  },
  {
   "cell_type": "code",
   "execution_count": 15,
   "metadata": {},
   "outputs": [
    {
     "data": {
      "text/plain": [
       "52"
      ]
     },
     "execution_count": 15,
     "metadata": {},
     "output_type": "execute_result"
    }
   ],
   "source": [
    "solution(24, 27)"
   ]
  },
  {
   "cell_type": "code",
   "execution_count": 21,
   "metadata": {},
   "outputs": [],
   "source": [
    "# 간결화\n",
    "def solution(left, right):\n",
    "    answer = 0\n",
    "    # left ~ right 숫자들의 약수 개수 구하기\n",
    "    for i in range(left, right+1) :         \n",
    "        count = []\n",
    "        count = [count.append(j) for j in range(1, i+1) if i%j==0]\n",
    "        answer += i if len(count) % 2 == 0 else -i\n",
    "    return answer"
   ]
  },
  {
   "cell_type": "code",
   "execution_count": 23,
   "metadata": {},
   "outputs": [
    {
     "data": {
      "text/plain": [
       "52"
      ]
     },
     "execution_count": 23,
     "metadata": {},
     "output_type": "execute_result"
    }
   ],
   "source": [
    "solution(24, 27)"
   ]
  },
  {
   "cell_type": "markdown",
   "metadata": {},
   "source": [
    "다른 사람 풀이 참고하여 다시 풀어보기"
   ]
  },
  {
   "cell_type": "code",
   "execution_count": 24,
   "metadata": {},
   "outputs": [],
   "source": [
    "# 제곱수는 약수의 개수가 홀수개임을 이용\n",
    "def solution(left, right) : \n",
    "    answer = 0\n",
    "    for i in range(left, right+1) : \n",
    "        if int(i**0.5) == i**0.5 : \n",
    "            answer -=i\n",
    "        else : \n",
    "            answer += i\n",
    "    return answer"
   ]
  },
  {
   "cell_type": "code",
   "execution_count": 25,
   "metadata": {},
   "outputs": [
    {
     "data": {
      "text/plain": [
       "52"
      ]
     },
     "execution_count": 25,
     "metadata": {},
     "output_type": "execute_result"
    }
   ],
   "source": [
    "solution(24, 27)"
   ]
  },
  {
   "cell_type": "code",
   "execution_count": 26,
   "metadata": {},
   "outputs": [],
   "source": [
    "# Comprehension\n",
    "def solution(left, right) : \n",
    "    return sum([-i if int(i**0.5)==i**0.5 else i for i in range(left, right+1)])"
   ]
  },
  {
   "cell_type": "code",
   "execution_count": 27,
   "metadata": {},
   "outputs": [
    {
     "data": {
      "text/plain": [
       "52"
      ]
     },
     "execution_count": 27,
     "metadata": {},
     "output_type": "execute_result"
    }
   ],
   "source": [
    "solution(24, 27)"
   ]
  }
 ],
 "metadata": {
  "kernelspec": {
   "display_name": "Python 3",
   "language": "python",
   "name": "python3"
  },
  "language_info": {
   "codemirror_mode": {
    "name": "ipython",
    "version": 3
   },
   "file_extension": ".py",
   "mimetype": "text/x-python",
   "name": "python",
   "nbconvert_exporter": "python",
   "pygments_lexer": "ipython3",
   "version": "3.11.9"
  }
 },
 "nbformat": 4,
 "nbformat_minor": 2
}
