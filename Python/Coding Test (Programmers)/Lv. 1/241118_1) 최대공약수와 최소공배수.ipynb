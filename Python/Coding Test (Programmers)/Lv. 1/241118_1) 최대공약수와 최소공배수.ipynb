{
 "cells": [
  {
   "cell_type": "markdown",
   "metadata": {},
   "source": [
    "문제 설명               \n",
    "두 수를 입력받아 두 수의 최대공약수와 최소공배수를 반환하는 함수, solution을 완성해 보세요. 배열의 맨 앞에 최대공약수, 그다음 최소공배수를 넣어 반환하면 됩니다. 예를 들어 두 수 3, 12의 최대공약수는 3, 최소공배수는 12이므로 solution(3, 12)는 [3, 12]를 반환해야 합니다.             \n",
    "\n",
    "제한 사항               \n",
    "두 수는 1이상 1000000이하의 자연수입니다.               \n",
    "입출력 예               \n",
    "n\tm\treturn              \n",
    "3\t12\t[3, 12]             \n",
    "2\t5\t[1, 10]             "
   ]
  },
  {
   "cell_type": "code",
   "execution_count": 4,
   "metadata": {},
   "outputs": [],
   "source": [
    "# 최대공약수\n",
    "# Hint 참고\n",
    "# 반복문을 이용하여 최대공약수 찾기\n",
    "def solution(n, m) : \n",
    "    ## n과 m의 약수 찾기\n",
    "    # n_divisor = [i for i in n if n%i == 0]                \n",
    "    # m_divisor = [i for i in m if m%i == 0]                # 1차 실수\n",
    "    n_divisor = []\n",
    "    n_divisor = [n_divisor.append(i) for i in range(1, n+1) if n%i==0]            \n",
    "    m_divisor = []\n",
    "    m_divisor = [m_divisor.append(int(i)) for i in range(1, m+1) if m%i == 0]             # 2차 실수\n",
    "    # n_divisor = [i for i in range(1, n+1) if n%i == 0]\n",
    "    # m_divisor = [i for i in range(1, m+1) if m%i == 0]\n",
    "    ## 각 약수 배열 확인\n",
    "    # print(n_divisor)\n",
    "    # print(m_divisor)\n",
    "    # print(max(len(n_divisor), len(m_divisor)))\n",
    "    \n",
    "    # n과 m의 최대공약수 찾기\n",
    "    for i in n_divisor : \n",
    "        for j in m_divisor : \n",
    "            if i == j : \n",
    "                greatest_common_divisor = i\n",
    "    print('최대공약수 : ', greatest_common_divisor)\n",
    "    # list comprehension\n",
    "    # greatest_common_divisor = [i for i in n_divisor for j in m_divisor if i == j]\n",
    "    # print(greatest_common_divisor)\n",
    "\n",
    "    # 최대공약수를 이용해서 최소공배수 계산하기\n",
    "    # n_remainder = n // greatest_common_divisor\n",
    "    # m_remainder = m // greatest_common_divisor\n",
    "    # least_common_multiple = greatest_common_divisor * n_remainder * m_remainder\n",
    "    # print('최소공배수 : ', least_common_multiple)"
   ]
  },
  {
   "cell_type": "code",
   "execution_count": 5,
   "metadata": {},
   "outputs": [
    {
     "name": "stdout",
     "output_type": "stream",
     "text": [
      "최대공약수 :  None\n"
     ]
    }
   ],
   "source": [
    "solution(3, 12)"
   ]
  },
  {
   "cell_type": "code",
   "execution_count": 6,
   "metadata": {},
   "outputs": [],
   "source": [
    "# 1차 수정\n",
    "def solution(n, m) : \n",
    "    n_divisor = [i for i in range(1, n+1) if n%i == 0]\n",
    "    m_divisor = [i for i in range(1, m+1) if m%i == 0]\n",
    "    \n",
    "    # n과 m의 최대공약수 찾기\n",
    "    for i in n_divisor : \n",
    "        for j in m_divisor : \n",
    "            if i == j : \n",
    "                greatest_common_divisor = i\n",
    "\n",
    "    # 최대공약수를 이용해서 최소공배수 계산하기\n",
    "    n_remainder = n // greatest_common_divisor\n",
    "    m_remainder = m // greatest_common_divisor\n",
    "    least_common_multiple = greatest_common_divisor * n_remainder * m_remainder\n",
    "    return [greatest_common_divisor, least_common_multiple]"
   ]
  },
  {
   "cell_type": "code",
   "execution_count": 7,
   "metadata": {},
   "outputs": [
    {
     "data": {
      "text/plain": [
       "[3, 12]"
      ]
     },
     "execution_count": 7,
     "metadata": {},
     "output_type": "execute_result"
    }
   ],
   "source": [
    "solution(3, 12)"
   ]
  },
  {
   "cell_type": "code",
   "execution_count": 8,
   "metadata": {},
   "outputs": [],
   "source": [
    "# 코드 간결화\n",
    "# list comprehension\n",
    "# 1차 수정\n",
    "def solution(n, m) : \n",
    "    n_divisor = [i for i in range(1, n+1) if n%i == 0]\n",
    "    m_divisor = [i for i in range(1, m+1) if m%i == 0]\n",
    "    \n",
    "    # n과 m의 최대공약수 찾기\n",
    "    greatest_common_divisor = [j for j in m_divisor for i in n_divisor if i == j]\n",
    "\n",
    "    # 최대공약수를 이용해서 최소공배수 계산하기\n",
    "    n_remainder = n // greatest_common_divisor[-1]\n",
    "    m_remainder = m // greatest_common_divisor[-1]\n",
    "    least_common_multiple = greatest_common_divisor[-1] * n_remainder * m_remainder\n",
    "    return [greatest_common_divisor[-1], least_common_multiple]"
   ]
  },
  {
   "cell_type": "code",
   "execution_count": 12,
   "metadata": {},
   "outputs": [
    {
     "data": {
      "text/plain": [
       "[36, 42259752]"
      ]
     },
     "execution_count": 12,
     "metadata": {},
     "output_type": "execute_result"
    }
   ],
   "source": [
    "solution(78696, 19332)"
   ]
  },
  {
   "cell_type": "code",
   "execution_count": null,
   "metadata": {},
   "outputs": [],
   "source": []
  },
  {
   "cell_type": "code",
   "execution_count": null,
   "metadata": {},
   "outputs": [],
   "source": []
  },
  {
   "cell_type": "code",
   "execution_count": null,
   "metadata": {},
   "outputs": [],
   "source": []
  },
  {
   "cell_type": "code",
   "execution_count": null,
   "metadata": {},
   "outputs": [],
   "source": []
  }
 ],
 "metadata": {
  "kernelspec": {
   "display_name": "tensorflow",
   "language": "python",
   "name": "python3"
  },
  "language_info": {
   "codemirror_mode": {
    "name": "ipython",
    "version": 3
   },
   "file_extension": ".py",
   "mimetype": "text/x-python",
   "name": "python",
   "nbconvert_exporter": "python",
   "pygments_lexer": "ipython3",
   "version": "3.10.12"
  }
 },
 "nbformat": 4,
 "nbformat_minor": 2
}
