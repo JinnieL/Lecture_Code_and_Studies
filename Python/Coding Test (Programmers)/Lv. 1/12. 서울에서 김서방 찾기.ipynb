{
 "cells": [
  {
   "cell_type": "markdown",
   "metadata": {},
   "source": [
    "### 풀이 날짜 : 2024.10.04\n",
    "##### Notion 풀이 : https://www.notion.so/1152b103d36c80d9b460d3399e2016a4?pvs=4"
   ]
  },
  {
   "cell_type": "markdown",
   "metadata": {},
   "source": [
    "문제 설명\n",
    "String형 배열 seoul의 element중 \"Kim\"의 위치 x를 찾아, \"김서방은 x에 있다\"는 String을 반환하는 함수, solution을 완성하세요. seoul에 \"Kim\"은 오직 한 번만 나타나며 잘못된 값이 입력되는 경우는 없습니다.             \n",
    "\n",
    "제한 사항               \n",
    "seoul은 길이 1 이상, 1000 이하인 배열입니다.                \n",
    "seoul의 원소는 길이 1 이상, 20 이하인 문자열입니다.             \n",
    "\"Kim\"은 반드시 seoul 안에 포함되어 있습니다.                \n",
    "\n",
    "입출력 예           \n",
    "seoul\treturn          \n",
    "[\"Jane\", \"Kim\"]\t\"김서방은 1에 있다\""
   ]
  },
  {
   "cell_type": "code",
   "execution_count": 6,
   "metadata": {},
   "outputs": [],
   "source": [
    "import pandas as pd\n",
    "import numpy as np"
   ]
  },
  {
   "cell_type": "code",
   "execution_count": 19,
   "metadata": {},
   "outputs": [],
   "source": [
    "def solution(seoul):\n",
    "    import numpy as np\n",
    "    index = np.where(np.isin(seoul, 'Kim')==True)[0][0]\n",
    "    answer = '김서방은 {0}에 있다.'.format(index)\n",
    "    return answer"
   ]
  },
  {
   "cell_type": "code",
   "execution_count": 20,
   "metadata": {},
   "outputs": [
    {
     "name": "stdout",
     "output_type": "stream",
     "text": [
      "[False  True]\n",
      "1\n",
      "Kim\n"
     ]
    }
   ],
   "source": [
    "seoul = [\"Jane\", \"Kim\"]\n",
    "\n",
    "print(np.isin(seoul, 'Kim'))\n",
    "print(np.where(np.isin(seoul, 'Kim')==True)[0][0])\n",
    "print(seoul[np.where(np.isin(seoul, 'Kim')==True)[0][0]])"
   ]
  },
  {
   "cell_type": "code",
   "execution_count": 21,
   "metadata": {},
   "outputs": [
    {
     "data": {
      "text/plain": [
       "'김서방은 1에 있다.'"
      ]
     },
     "execution_count": 21,
     "metadata": {},
     "output_type": "execute_result"
    }
   ],
   "source": [
    "solution(seoul)"
   ]
  },
  {
   "cell_type": "markdown",
   "metadata": {},
   "source": [
    "---\n",
    "다른 풀이 확인"
   ]
  },
  {
   "cell_type": "code",
   "execution_count": 29,
   "metadata": {},
   "outputs": [
    {
     "name": "stdout",
     "output_type": "stream",
     "text": [
      "2\n"
     ]
    }
   ],
   "source": [
    "# index() 함수 사용\n",
    "seoul = [\"Jane\", 'Jang', \"Kim\", 'Jun']\n",
    "print(seoul.index('Kim'))"
   ]
  },
  {
   "cell_type": "code",
   "execution_count": 30,
   "metadata": {},
   "outputs": [],
   "source": [
    "def solution(s) : \n",
    "    return '김서방은 {}에 있다'.format(s.index('Kim'))"
   ]
  },
  {
   "cell_type": "code",
   "execution_count": 31,
   "metadata": {},
   "outputs": [
    {
     "data": {
      "text/plain": [
       "'김서방은 2에 있다'"
      ]
     },
     "execution_count": 31,
     "metadata": {},
     "output_type": "execute_result"
    }
   ],
   "source": [
    "solution(seoul)"
   ]
  },
  {
   "cell_type": "code",
   "execution_count": 34,
   "metadata": {},
   "outputs": [],
   "source": [
    "# 반복문 사용\n",
    "def solution(seoul) : \n",
    "    kimIdx = 0\n",
    "    for kimIdx in range(len(seoul)) : \n",
    "        if seoul[kimIdx] == 'Kim' : \n",
    "            return '김서방은 {}에 있다'.format(kimIdx)"
   ]
  },
  {
   "cell_type": "code",
   "execution_count": 35,
   "metadata": {},
   "outputs": [
    {
     "data": {
      "text/plain": [
       "'김서방은 2에 있다'"
      ]
     },
     "execution_count": 35,
     "metadata": {},
     "output_type": "execute_result"
    }
   ],
   "source": [
    "solution(seoul)"
   ]
  }
 ],
 "metadata": {
  "kernelspec": {
   "display_name": "Python 3",
   "language": "python",
   "name": "python3"
  },
  "language_info": {
   "codemirror_mode": {
    "name": "ipython",
    "version": 3
   },
   "file_extension": ".py",
   "mimetype": "text/x-python",
   "name": "python",
   "nbconvert_exporter": "python",
   "pygments_lexer": "ipython3",
   "version": "3.10.12"
  }
 },
 "nbformat": 4,
 "nbformat_minor": 2
}
