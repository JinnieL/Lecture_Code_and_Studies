{
 "cells": [
  {
   "cell_type": "markdown",
   "metadata": {},
   "source": [
    "### 2024.08.21"
   ]
  },
  {
   "cell_type": "markdown",
   "metadata": {},
   "source": [
    "문제 설명           \n",
    "프로그래머스 모바일은 개인정보 보호를 위해 고지서를 보낼 때 고객들의 전화번호의 일부를 가립니다.\n",
    "전화번호가 문자열 phone_number로 주어졌을 때, 전화번호의 뒷 4자리를 제외한 나머지 숫자를 전부 *으로 가린 문자열을 리턴하는 함수, solution을 완성해주세요.           \n",
    "\n",
    "제한 조건           \n",
    "phone_number는 길이 4 이상, 20이하인 문자열입니다.              \n",
    "입출력 예               \n",
    "phone_number\treturn              \n",
    "\"01033334444\"\t\"*******4444\"           \n",
    "\"027778888\"\t\"*****8888\""
   ]
  },
  {
   "cell_type": "markdown",
   "metadata": {},
   "source": [
    "https://www.notion.so/0a0969d71b814fd0968e263f532e7cbf?pvs=4"
   ]
  },
  {
   "cell_type": "code",
   "execution_count": 1,
   "metadata": {},
   "outputs": [],
   "source": [
    "def solution(phone_number):\n",
    "    return phone_number.replace(phone_number[:-4], \"*\" * len(phone_number[:-4]))"
   ]
  },
  {
   "cell_type": "code",
   "execution_count": 2,
   "metadata": {},
   "outputs": [
    {
     "name": "stdout",
     "output_type": "stream",
     "text": [
      "*******4444\n",
      "*****8888\n"
     ]
    }
   ],
   "source": [
    "phone_number = \"01033334444\"\n",
    "print(solution(phone_number))\n",
    "\n",
    "phone_number = \"027778888\"\n",
    "print(solution(phone_number))"
   ]
  }
 ],
 "metadata": {
  "kernelspec": {
   "display_name": "Python 3",
   "language": "python",
   "name": "python3"
  },
  "language_info": {
   "codemirror_mode": {
    "name": "ipython",
    "version": 3
   },
   "file_extension": ".py",
   "mimetype": "text/x-python",
   "name": "python",
   "nbconvert_exporter": "python",
   "pygments_lexer": "ipython3",
   "version": "3.11.9"
  }
 },
 "nbformat": 4,
 "nbformat_minor": 2
}
