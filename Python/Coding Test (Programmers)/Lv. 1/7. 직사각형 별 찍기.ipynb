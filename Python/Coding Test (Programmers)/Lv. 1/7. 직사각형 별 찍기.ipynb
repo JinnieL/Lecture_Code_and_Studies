{
 "cells": [
  {
   "cell_type": "markdown",
   "metadata": {},
   "source": [
    "### 풀이 날짜 :  2024.09.02\n",
    "### 풀이 소요 시간 : 15min\n",
    "##### 노션 : https://www.notion.so/3e9eaa3e5ebe4c9e947fffd30ea243c3?pvs=4"
   ]
  },
  {
   "cell_type": "markdown",
   "metadata": {},
   "source": [
    "문제 설명           \n",
    "이 문제에는 표준 입력으로 두 개의 정수 n과 m이 주어집니다.          \n",
    "별(*) 문자를 이용해 가로의 길이가 n, 세로의 길이가 m인 직사각형 형태를 출력해보세요.            \n",
    "\n",
    "제한 조건           \n",
    "n과 m은 각각 1000 이하인 자연수입니다.          \n",
    "\n",
    "예시            \n",
    "- 입력\n",
    "5 3         \n",
    "\n",
    "- 출력          \n",
    "*****\n",
    "*****\n",
    "*****"
   ]
  },
  {
   "cell_type": "code",
   "execution_count": 3,
   "metadata": {},
   "outputs": [
    {
     "name": "stdout",
     "output_type": "stream",
     "text": [
      "('*****', '\\n', '*****', '\\n', '*****', '\\n', '*****', '\\n')\n",
      "----------\n",
      "*****\n",
      "*****\n",
      "*****\n",
      "*****\n",
      "\n",
      "----------\n"
     ]
    }
   ],
   "source": [
    "a, b = map(int, input().strip().split(' '))\n",
    "\n",
    "print(('*' * a, '\\n') * b)\n",
    "print('-'*10)\n",
    "print(('*' * a + '\\n') * b)\n",
    "print('-'*10)"
   ]
  },
  {
   "cell_type": "markdown",
   "metadata": {},
   "source": [
    "초반에 '\\n'을 '+'가 아닌 ','로 연결해서 오류가 자꾸 났다.."
   ]
  },
  {
   "cell_type": "markdown",
   "metadata": {},
   "source": [
    "### 다른 사람 풀이"
   ]
  },
  {
   "cell_type": "code",
   "execution_count": null,
   "metadata": {},
   "outputs": [],
   "source": [
    "a, b = map(int, input().strip().split(' '))\n",
    "for _ in range(b):\n",
    "    print('*'*a)"
   ]
  },
  {
   "cell_type": "code",
   "execution_count": null,
   "metadata": {},
   "outputs": [],
   "source": [
    "n, m = [int(x) for x in input().split()[:2]]\n",
    "print('\\n'.join(['*' * n] * m))"
   ]
  }
 ],
 "metadata": {
  "kernelspec": {
   "display_name": "Python 3",
   "language": "python",
   "name": "python3"
  },
  "language_info": {
   "codemirror_mode": {
    "name": "ipython",
    "version": 3
   },
   "file_extension": ".py",
   "mimetype": "text/x-python",
   "name": "python",
   "nbconvert_exporter": "python",
   "pygments_lexer": "ipython3",
   "version": "3.11.9"
  }
 },
 "nbformat": 4,
 "nbformat_minor": 2
}
