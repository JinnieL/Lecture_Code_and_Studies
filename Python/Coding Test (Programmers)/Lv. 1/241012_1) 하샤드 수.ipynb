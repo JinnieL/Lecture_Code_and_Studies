{
 "cells": [
  {
   "cell_type": "markdown",
   "metadata": {},
   "source": [
    "##### Notion 풀이 : https://www.notion.so/11d2b103d36c80498661d0b11cd96022?pvs=4"
   ]
  },
  {
   "cell_type": "markdown",
   "metadata": {},
   "source": [
    "문제 설명       \n",
    "양의 정수 x가 하샤드 수이려면 x의 자릿수의 합으로 x가 나누어져야 합니다. 예를 들어 18의 자릿수 합은 1+8=9이고, 18은 9로 나누어 떨어지므로 18은 하샤드 수입니다. 자연수 x를 입력받아 x가 하샤드 수인지 아닌지 검사하는 함수, solution을 완성해주세요.            \n",
    "\n",
    "제한 조건           \n",
    "x는 1 이상, 10000 이하인 정수입니다.            \n",
    "입출력 예           \n",
    "x\treturn              \n",
    "10\ttrue            \n",
    "12\ttrue            \n",
    "11\tfalse           \n",
    "13\tfalse           \n",
    "입출력 예 설명              \n",
    "입출력 예 #1                \n",
    "10의 모든 자릿수의 합은 1입니다. 10은 1로 나누어 떨어지므로 10은 하샤드 수입니다.               \n",
    "\n",
    "입출력 예 #2                    \n",
    "12의 모든 자릿수의 합은 3입니다. 12는 3으로 나누어 떨어지므로 12는 하샤드 수입니다.                 \n",
    "\n",
    "입출력 예 #3                \n",
    "11의 모든 자릿수의 합은 2입니다. 11은 2로 나누어 떨어지지 않으므로 11는 하샤드 수가 아닙니다.                   \n",
    "\n",
    "입출력 예 #4                        \n",
    "13의 모든 자릿수의 합은 4입니다. 13은 4로 나누어 떨어지지 않으므로 13은 하샤드 수가 아닙니다.                   "
   ]
  },
  {
   "cell_type": "code",
   "execution_count": 1,
   "metadata": {},
   "outputs": [
    {
     "name": "stdout",
     "output_type": "stream",
     "text": [
      "2\n",
      "9\n",
      "29\n"
     ]
    }
   ],
   "source": [
    "# Scratch\n",
    "print(29//10)\n",
    "print(29%10)\n",
    "\n",
    "def f(x) : \n",
    "    x = x//10\n",
    "    print(x)\n",
    "\n",
    "f(298)"
   ]
  },
  {
   "cell_type": "code",
   "execution_count": 2,
   "metadata": {},
   "outputs": [],
   "source": [
    "def solution(x) : \n",
    "    sum = 0\n",
    "    while x > 0 : \n",
    "        sum += (x%10)    \n",
    "        x = x // 10\n",
    "        print('x : ', x)\n",
    "    print('자리수 합 : ', sum)"
   ]
  },
  {
   "cell_type": "markdown",
   "metadata": {},
   "source": [
    "sum에는 나머지 누적합,\n",
    "x는 10씩 나눈 몫을 갱신 할당."
   ]
  },
  {
   "cell_type": "code",
   "execution_count": 3,
   "metadata": {},
   "outputs": [
    {
     "name": "stdout",
     "output_type": "stream",
     "text": [
      "x :  11\n",
      "x :  1\n",
      "x :  0\n",
      "자리수 합 :  2\n",
      "None\n",
      "x :  29\n",
      "x :  2\n",
      "x :  0\n",
      "자리수 합 :  19\n",
      "None\n",
      "x :  539\n",
      "x :  53\n",
      "x :  5\n",
      "x :  0\n",
      "자리수 합 :  21\n",
      "None\n"
     ]
    }
   ],
   "source": [
    "print(solution(110))\n",
    "print(solution(298))\n",
    "print(solution(5394))"
   ]
  },
  {
   "cell_type": "code",
   "execution_count": 6,
   "metadata": {},
   "outputs": [],
   "source": [
    "# 최종 정리\n",
    "def solution(x) : \n",
    "    answer = False\n",
    "    x_copy = x\n",
    "    sum = 0\n",
    "    while x > 0 : \n",
    "        sum += (x%10)    \n",
    "        x = x // 10\n",
    "    if x_copy % sum == 0 : \n",
    "        answer = True\n",
    "    return answer"
   ]
  },
  {
   "cell_type": "code",
   "execution_count": 10,
   "metadata": {},
   "outputs": [
    {
     "data": {
      "text/plain": [
       "False"
      ]
     },
     "execution_count": 10,
     "metadata": {},
     "output_type": "execute_result"
    }
   ],
   "source": [
    "solution(13)"
   ]
  },
  {
   "cell_type": "code",
   "execution_count": null,
   "metadata": {},
   "outputs": [],
   "source": [
    "# 다른 풀이\n",
    "def solution(x) :\n",
    "    return x%sum(int(x) for x in str(x))==0"
   ]
  }
 ],
 "metadata": {
  "kernelspec": {
   "display_name": "Python 3",
   "language": "python",
   "name": "python3"
  },
  "language_info": {
   "codemirror_mode": {
    "name": "ipython",
    "version": 3
   },
   "file_extension": ".py",
   "mimetype": "text/x-python",
   "name": "python",
   "nbconvert_exporter": "python",
   "pygments_lexer": "ipython3",
   "version": "3.11.9"
  }
 },
 "nbformat": 4,
 "nbformat_minor": 2
}
