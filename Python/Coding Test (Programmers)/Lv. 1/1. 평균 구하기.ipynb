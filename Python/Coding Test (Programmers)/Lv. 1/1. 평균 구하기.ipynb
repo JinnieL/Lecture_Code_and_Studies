{
 "cells": [
  {
   "cell_type": "markdown",
   "metadata": {},
   "source": [
    "문제 설명           \n",
    "정수를 담고 있는 배열 arr의 평균값을 return하는 함수, solution을 완성해보세요.          \n",
    "\n",
    "제한사항        \n",
    "arr은 길이 1 이상, 100 이하인 배열입니다.           \n",
    "arr의 원소는 -10,000 이상 10,000 이하인 정수입니다.         \n",
    "\n",
    "입출력 예           \n",
    "arr\t            return              \n",
    "[1,2,3,4]\t    2.5             \n",
    "[5,5]\t        5"
   ]
  },
  {
   "cell_type": "code",
   "execution_count": 7,
   "metadata": {},
   "outputs": [],
   "source": [
    "# 내 풀이\n",
    "def solution(arr):\n",
    "    answer = 0\n",
    "    \n",
    "    sum = 0\n",
    "    \n",
    "    for i in arr : \n",
    "        sum += i\n",
    "        answer = sum / len(arr)\n",
    "    \n",
    "    return answer"
   ]
  },
  {
   "cell_type": "code",
   "execution_count": 8,
   "metadata": {},
   "outputs": [
    {
     "name": "stdout",
     "output_type": "stream",
     "text": [
      "2.5\n",
      "5.0\n"
     ]
    }
   ],
   "source": [
    "# 확인\n",
    "arr = [1, 2, 3, 4]\n",
    "print(solution(arr))\n",
    "\n",
    "arr = [5, 5]\n",
    "print(solution(arr))"
   ]
  },
  {
   "cell_type": "code",
   "execution_count": 9,
   "metadata": {},
   "outputs": [],
   "source": [
    "# 풀이 참조 1\n",
    "def solution(arr):\n",
    "    answer = 0\n",
    "    import statistics\n",
    "    \n",
    "    return statistics.mean(arr)"
   ]
  },
  {
   "cell_type": "code",
   "execution_count": 10,
   "metadata": {},
   "outputs": [
    {
     "name": "stdout",
     "output_type": "stream",
     "text": [
      "2.5\n",
      "5\n"
     ]
    }
   ],
   "source": [
    "# 확인\n",
    "arr = [1, 2, 3, 4]\n",
    "print(solution(arr))\n",
    "\n",
    "arr = [5, 5]\n",
    "print(solution(arr))"
   ]
  },
  {
   "cell_type": "code",
   "execution_count": 11,
   "metadata": {},
   "outputs": [],
   "source": [
    "# 풀이 참조 2\n",
    "def solution(arr):\n",
    "    answer = 0\n",
    "    if arr == 0 : \n",
    "        answer = 0\n",
    "    else : \n",
    "        answer = sum(arr) / len(arr)\n",
    "    \n",
    "    return answer"
   ]
  },
  {
   "cell_type": "code",
   "execution_count": 12,
   "metadata": {},
   "outputs": [
    {
     "name": "stdout",
     "output_type": "stream",
     "text": [
      "2.5\n",
      "5.0\n"
     ]
    }
   ],
   "source": [
    "# 확인\n",
    "arr = [1, 2, 3, 4]\n",
    "print(solution(arr))\n",
    "\n",
    "arr = [5, 5]\n",
    "print(solution(arr))"
   ]
  }
 ],
 "metadata": {
  "kernelspec": {
   "display_name": "Python 3",
   "language": "python",
   "name": "python3"
  },
  "language_info": {
   "codemirror_mode": {
    "name": "ipython",
    "version": 3
   },
   "file_extension": ".py",
   "mimetype": "text/x-python",
   "name": "python",
   "nbconvert_exporter": "python",
   "pygments_lexer": "ipython3",
   "version": "3.11.9"
  }
 },
 "nbformat": 4,
 "nbformat_minor": 2
}
