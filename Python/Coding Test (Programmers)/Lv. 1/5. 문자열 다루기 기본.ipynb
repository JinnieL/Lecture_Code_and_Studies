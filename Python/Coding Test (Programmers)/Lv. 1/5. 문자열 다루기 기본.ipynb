{
 "cells": [
  {
   "cell_type": "markdown",
   "metadata": {},
   "source": [
    "### 2024.08.21"
   ]
  },
  {
   "cell_type": "markdown",
   "metadata": {},
   "source": [
    "문제 설명                   \n",
    "문자열 s의 길이가 4 혹은 6이고, 숫자로만 구성돼있는지 확인해주는 함수, solution을 완성하세요. 예를 들어 s가 \"a234\"이면 False를 리턴하고 \"1234\"라면 True를 리턴하면 됩니다.              \n",
    "\n",
    "제한 사항           \n",
    "s는 길이 1 이상, 길이 8 이하인 문자열입니다.            \n",
    "s는 영문 알파벳 대소문자 또는 0부터 9까지 숫자로 이루어져 있습니다.         \n",
    "\n",
    "입출력 예           \n",
    "s\treturn          \n",
    "\"a234\"\tfalse           \n",
    "\"1234\"\ttrue"
   ]
  },
  {
   "cell_type": "code",
   "execution_count": 1,
   "metadata": {},
   "outputs": [],
   "source": [
    "def solution(s):\n",
    "    answer = True if ((len(s) == 4 or len(s) == 6) and s.isdigit()) else False\n",
    "    return answer"
   ]
  },
  {
   "cell_type": "code",
   "execution_count": 2,
   "metadata": {},
   "outputs": [
    {
     "name": "stdout",
     "output_type": "stream",
     "text": [
      "False\n",
      "True\n"
     ]
    }
   ],
   "source": [
    "s = 'a234'\n",
    "print(solution(s))\n",
    "\n",
    "s = '1234'\n",
    "print(solution(s))"
   ]
  }
 ],
 "metadata": {
  "kernelspec": {
   "display_name": "Python 3",
   "language": "python",
   "name": "python3"
  },
  "language_info": {
   "codemirror_mode": {
    "name": "ipython",
    "version": 3
   },
   "file_extension": ".py",
   "mimetype": "text/x-python",
   "name": "python",
   "nbconvert_exporter": "python",
   "pygments_lexer": "ipython3",
   "version": "3.11.9"
  }
 },
 "nbformat": 4,
 "nbformat_minor": 2
}
