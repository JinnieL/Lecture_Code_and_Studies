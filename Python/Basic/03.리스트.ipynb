{
 "cells": [
  {
   "cell_type": "markdown",
   "metadata": {},
   "source": [
    "## List 자료형"
   ]
  },
  {
   "cell_type": "code",
   "execution_count": 7,
   "metadata": {},
   "outputs": [],
   "source": [
    "# 선언\n",
    "var01 = []\n",
    "var02 = [1, 2, 3]\n",
    "var03 = ['I', 'have', 'a', 'dream']\n",
    "var04 = [1, 2, 'Dream', 'True']\n",
    "var05 = [1, 2, ['Dream', 'True']]"
   ]
  },
  {
   "cell_type": "code",
   "execution_count": 2,
   "metadata": {},
   "outputs": [
    {
     "name": "stdout",
     "output_type": "stream",
     "text": [
      "['Dream', 'True']\n",
      "['Dream', 'True']\n",
      "Dream\n",
      "[1, 2]\n",
      "['Dream', 'True']\n"
     ]
    }
   ],
   "source": [
    "# var05에서 ['Dream', 'True'] 출력하기\n",
    "print(var05[2])\n",
    "print(var05[-1])\n",
    "\n",
    "# var05에서 Dream만 출력하기\n",
    "print(var05[2][0])\n",
    "\n",
    "# var02에서 1, 2만 출력하기\n",
    "print(var02[:2])\n",
    "\n",
    "# var04에서 'Dream', 'True'만 출력하기\n",
    "print(var04[2:])"
   ]
  },
  {
   "cell_type": "markdown",
   "metadata": {},
   "source": [
    "### 리스트 연산자"
   ]
  },
  {
   "cell_type": "code",
   "execution_count": null,
   "metadata": {},
   "outputs": [],
   "source": [
    "# 02:36:24"
   ]
  },
  {
   "cell_type": "code",
   "execution_count": null,
   "metadata": {},
   "outputs": [],
   "source": []
  },
  {
   "cell_type": "code",
   "execution_count": 3,
   "metadata": {},
   "outputs": [
    {
     "data": {
      "text/plain": [
       "[1, 2, 3, 4, 5, 6]"
      ]
     },
     "execution_count": 3,
     "metadata": {},
     "output_type": "execute_result"
    }
   ],
   "source": [
    "# 리스트의 숫자 합치기\n",
    "var01 = [1, 2, 3]\n",
    "var02 = [4, 5, 6]\n",
    "var01 + var02  "
   ]
  },
  {
   "cell_type": "code",
   "execution_count": 4,
   "metadata": {},
   "outputs": [
    {
     "name": "stdout",
     "output_type": "stream",
     "text": [
      "5\n",
      "7\n",
      "9\n"
     ]
    }
   ],
   "source": [
    "# 덧셈\n",
    "for i in range(0, 3) : \n",
    "    print(var01[i] + var02[i])"
   ]
  },
  {
   "cell_type": "code",
   "execution_count": 5,
   "metadata": {},
   "outputs": [
    {
     "name": "stdout",
     "output_type": "stream",
     "text": [
      "3\n",
      "6\n",
      "9\n"
     ]
    }
   ],
   "source": [
    "var01 * 3           \n",
    "for i in range(0, 3) : \n",
    "    print(var01[i] * 3)"
   ]
  },
  {
   "cell_type": "code",
   "execution_count": 6,
   "metadata": {},
   "outputs": [
    {
     "data": {
      "text/plain": [
       "'3hi'"
      ]
     },
     "execution_count": 6,
     "metadata": {},
     "output_type": "execute_result"
    }
   ],
   "source": [
    "var = [1, 2, 3]\n",
    "# 3 -> 3hi!\n",
    "# var[2] + \"hi\"               # int 와 String의 합이라 오류남 -> int를 String으로 바꾸고 합치기\n",
    "str(var[2]) + \"hi\""
   ]
  },
  {
   "cell_type": "markdown",
   "metadata": {},
   "source": [
    "### 리스트의 수정과 삭제"
   ]
  },
  {
   "cell_type": "code",
   "execution_count": null,
   "metadata": {},
   "outputs": [],
   "source": [
    "var = [1, 2, 3]\n",
    "var[2] = 4\n",
    "var             # 문자열은 list가 아닌 문자."
   ]
  },
  {
   "cell_type": "code",
   "execution_count": null,
   "metadata": {},
   "outputs": [],
   "source": [
    "var[1:2] = ['a', 'b', 'c']\n",
    "# var[1] = ['a', 'b', 'c']          # 이렇게 넣으면 [1, ['a', 'b', 'c'], 'b', 'c', 4] 이렇게 결과가 나옴       \n",
    "var"
   ]
  },
  {
   "cell_type": "code",
   "execution_count": null,
   "metadata": {},
   "outputs": [],
   "source": [
    "# [1, 'c', 4] 만들기\n",
    "var[1:3] = []\n",
    "var"
   ]
  },
  {
   "cell_type": "code",
   "execution_count": null,
   "metadata": {},
   "outputs": [],
   "source": [
    "# [1, 4] 만들기 - 배열은 메모리에 있기 떄문에 안의 데이터를 지우면 알아서 붙음.\n",
    "# del(var[1])\n",
    "del var[1]\n",
    "var"
   ]
  },
  {
   "cell_type": "code",
   "execution_count": null,
   "metadata": {},
   "outputs": [],
   "source": [
    "# 추가 : append\n",
    "var = [1, 2, 3]\n",
    "var.append(4)\n",
    "var"
   ]
  },
  {
   "cell_type": "code",
   "execution_count": null,
   "metadata": {},
   "outputs": [],
   "source": [
    "var.append([5, 6])              # append는 list 형태로 추가가 됨\n",
    "var"
   ]
  },
  {
   "cell_type": "code",
   "execution_count": null,
   "metadata": {},
   "outputs": [],
   "source": [
    "# 정렬\n",
    "var = [1, 4, 3, 2, 5]\n",
    "var.sort()              # 오름 차순\n",
    "print(var)\n",
    "\n",
    "var.reverse()           # 내림 차순\n",
    "print(var)"
   ]
  },
  {
   "cell_type": "code",
   "execution_count": null,
   "metadata": {},
   "outputs": [],
   "source": [
    "# 찾고자 하는 데이터의 인덱스 찾기 : .index(찾고자 하는 데이터)\n",
    "var = [4, 5, 6]\n",
    "var.index(5)"
   ]
  },
  {
   "cell_type": "code",
   "execution_count": null,
   "metadata": {},
   "outputs": [],
   "source": [
    "# (인덱스로) 원하는 위치에 원하는 데이터 삽입하기\n",
    "var = [1, 2, 3]\n",
    "var.insert(0, 4)\n",
    "var"
   ]
  },
  {
   "cell_type": "code",
   "execution_count": null,
   "metadata": {},
   "outputs": [],
   "source": [
    "var = [1, 2, 3, 4, 4, 5, 6]\n",
    "var.remove(4)                    # 첫번째 데이터 지우기. ()에 쓰는건 데이터임. 인덱스를 지우는게 아니라 4라는 (첫번째) 데이터를 지움\n",
    "var"
   ]
  },
  {
   "cell_type": "code",
   "execution_count": null,
   "metadata": {},
   "outputs": [],
   "source": [
    "var = [1, 2, 3]\n",
    "print(var.pop())            # 가장 마지막 인덱스의 데이터 지움\n",
    "print(var)"
   ]
  },
  {
   "cell_type": "code",
   "execution_count": null,
   "metadata": {},
   "outputs": [],
   "source": [
    "var = [1, 2, 3]\n",
    "for i in range(0, 3) :\n",
    "    print(var.pop())\n",
    "\n",
    "print(var)"
   ]
  },
  {
   "cell_type": "code",
   "execution_count": null,
   "metadata": {},
   "outputs": [],
   "source": [
    "var = [1, 2, 3, 4, 4, 4]\n",
    "print(var.count(4))         # 데이터 4의 개수\n",
    "print(len(var))"
   ]
  },
  {
   "cell_type": "code",
   "execution_count": null,
   "metadata": {},
   "outputs": [],
   "source": [
    "var = [1, 2, 3]\n",
    "var1 = [5, 6]\n",
    "print(var + var1)\n",
    "\n",
    "# 위의 내용을 함수로. 배열 확장하기 : .extend(추가할 배열) <- append와 차이점 알기!         함수가 워낙 많기 때문에 다 사용하지 않아도 되지만 뭘 쓸지는 알아야 한다.\n",
    "var = [1, 2, 3]\n",
    "var.extend([5, 6])\n",
    "print(var)"
   ]
  },
  {
   "cell_type": "code",
   "execution_count": null,
   "metadata": {},
   "outputs": [],
   "source": []
  },
  {
   "cell_type": "code",
   "execution_count": null,
   "metadata": {},
   "outputs": [],
   "source": []
  }
 ],
 "metadata": {
  "kernelspec": {
   "display_name": "tensorflow",
   "language": "python",
   "name": "python3"
  },
  "language_info": {
   "codemirror_mode": {
    "name": "ipython",
    "version": 3
   },
   "file_extension": ".py",
   "mimetype": "text/x-python",
   "name": "python",
   "nbconvert_exporter": "python",
   "pygments_lexer": "ipython3",
   "version": "3.10.12"
  }
 },
 "nbformat": 4,
 "nbformat_minor": 2
}
