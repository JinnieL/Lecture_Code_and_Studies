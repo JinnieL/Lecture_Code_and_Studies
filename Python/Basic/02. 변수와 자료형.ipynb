{
 "cells": [
  {
   "cell_type": "markdown",
   "metadata": {},
   "source": [
    "### 내장함수와 외부 모듈 함수, 사용자 정의 함수\n",
    "내장함수(Built-in Functions)            \n",
    "- 파이썬 언어에 기본적으로 포함되어 있는 함수들.\n",
    "- 별도의 import 없이 바로 사용 가능\n",
    "- ex> print(), len(), type(), pow(), abs() 등\n",
    "\n",
    "외부 모듈 함수 (External Module Functions)\n",
    "- 외부 라이브러리나 모듈에 포함된 함수들\n",
    "- 사용하기 전에 해당 모듈 Import 해야함.\n",
    "\n",
    "사용자 정의 함수 (User-defined Functions)\n",
    "- 사용자가 직접 정의한 함수들\n",
    "- 특정 작업을 수행하기 위해 사용자가 직접 코드를 작성하여 함수로 정의"
   ]
  },
  {
   "cell_type": "code",
   "execution_count": 174,
   "metadata": {},
   "outputs": [
    {
     "name": "stdout",
     "output_type": "stream",
     "text": [
      "9\n",
      "27\n",
      "2187\n"
     ]
    }
   ],
   "source": [
    "# 거듭제곱\n",
    "var_01 = 3\n",
    "print(var_01**2)\n",
    "print(var_01**3)            # 파이썬 기본 기능\n",
    "\n",
    "print(pow(var_01, 7))       # 파이썬 내장 함수"
   ]
  },
  {
   "cell_type": "code",
   "execution_count": 175,
   "metadata": {},
   "outputs": [
    {
     "name": "stdout",
     "output_type": "stream",
     "text": [
      "2\n",
      "4\n",
      "2.0\n",
      "123.5\n",
      "123.45\n"
     ]
    }
   ],
   "source": [
    "# 반올림 (내장함수)\n",
    "print(round(2.5))\n",
    "print(round(3.5))\n",
    "print(round(2.5, 0))\n",
    "print(round(123.45, 1))\n",
    "print(round(123.455, 2))"
   ]
  },
  {
   "cell_type": "markdown",
   "metadata": {},
   "source": [
    "외부 모듈 사용\n",
    "1. 사용하고자 하는 모듈 import (math)"
   ]
  },
  {
   "cell_type": "code",
   "execution_count": 176,
   "metadata": {},
   "outputs": [],
   "source": [
    "import math"
   ]
  },
  {
   "cell_type": "markdown",
   "metadata": {},
   "source": [
    "2. 모듈 내 원하는 함수 사용"
   ]
  },
  {
   "cell_type": "code",
   "execution_count": 177,
   "metadata": {},
   "outputs": [
    {
     "data": {
      "text/plain": [
       "9.0"
      ]
     },
     "execution_count": 177,
     "metadata": {},
     "output_type": "execute_result"
    }
   ],
   "source": [
    "# 거듭제곱\n",
    "math.pow(var_01, 2)"
   ]
  },
  {
   "cell_type": "code",
   "execution_count": 178,
   "metadata": {},
   "outputs": [
    {
     "data": {
      "text/plain": [
       "1.7320508075688772"
      ]
     },
     "execution_count": 178,
     "metadata": {},
     "output_type": "execute_result"
    }
   ],
   "source": [
    "# 제곱근\n",
    "math.sqrt(var_01)"
   ]
  },
  {
   "cell_type": "code",
   "execution_count": 179,
   "metadata": {},
   "outputs": [
    {
     "data": {
      "text/plain": [
       "0.8509035245341184"
      ]
     },
     "execution_count": 179,
     "metadata": {},
     "output_type": "execute_result"
    }
   ],
   "source": [
    "# 삼각비\n",
    "math.sin(45)"
   ]
  },
  {
   "cell_type": "code",
   "execution_count": 180,
   "metadata": {},
   "outputs": [
    {
     "name": "stdout",
     "output_type": "stream",
     "text": [
      "2\n",
      "1\n"
     ]
    }
   ],
   "source": [
    "# 올림\n",
    "print(math.ceil(1.1))\n",
    "print(math.ceil(1.0))"
   ]
  },
  {
   "cell_type": "code",
   "execution_count": 181,
   "metadata": {},
   "outputs": [
    {
     "name": "stdout",
     "output_type": "stream",
     "text": [
      "1\n",
      "1\n"
     ]
    }
   ],
   "source": [
    "# 내림\n",
    "print(math.floor(1.1))\n",
    "print(math.floor(1.9))"
   ]
  },
  {
   "cell_type": "code",
   "execution_count": 182,
   "metadata": {},
   "outputs": [
    {
     "data": {
      "text/plain": [
       "1.0"
      ]
     },
     "execution_count": 182,
     "metadata": {},
     "output_type": "execute_result"
    }
   ],
   "source": [
    "# 예제 : sin(45)^2 + cos(45)^2\n",
    "math.pow(math.sin(45) ,2) + math.pow(math.cos(45) ,2)"
   ]
  },
  {
   "cell_type": "markdown",
   "metadata": {},
   "source": [
    "### Random Module\n",
    "난수 발생을 위한 모듈"
   ]
  },
  {
   "cell_type": "code",
   "execution_count": 183,
   "metadata": {},
   "outputs": [],
   "source": [
    "import random"
   ]
  },
  {
   "cell_type": "code",
   "execution_count": 184,
   "metadata": {},
   "outputs": [
    {
     "data": {
      "text/plain": [
       "80"
      ]
     },
     "execution_count": 184,
     "metadata": {},
     "output_type": "execute_result"
    }
   ],
   "source": [
    "# 1 ~ 100 사이의 정수 랜덤 추출\n",
    "random.randint(1, 100)"
   ]
  },
  {
   "cell_type": "code",
   "execution_count": 185,
   "metadata": {},
   "outputs": [
    {
     "data": {
      "text/plain": [
       "[24, 27, 14, 38, 26, 21]"
      ]
     },
     "execution_count": 185,
     "metadata": {},
     "output_type": "execute_result"
    }
   ],
   "source": [
    "# sampling() : 범위 내의 n개 표본 무작위 추출\n",
    "random.sample(range(1, 46), 6)"
   ]
  },
  {
   "cell_type": "code",
   "execution_count": 186,
   "metadata": {},
   "outputs": [
    {
     "name": "stdout",
     "output_type": "stream",
     "text": [
      "[5, 3, 2, 4, 1]\n"
     ]
    }
   ],
   "source": [
    "# shuffle() : 리스트 자료형 순서 섞기\n",
    "a = [1, 2, 3, 4, 5]\n",
    "random.shuffle(a)\n",
    "print(a)"
   ]
  },
  {
   "cell_type": "code",
   "execution_count": 187,
   "metadata": {},
   "outputs": [
    {
     "data": {
      "text/plain": [
       "['math', 'open', 'quit', 'random', 'var_01']"
      ]
     },
     "execution_count": 187,
     "metadata": {},
     "output_type": "execute_result"
    }
   ],
   "source": [
    "# 메모리에 있는 변수 보기\n",
    "dir()[-5:]"
   ]
  },
  {
   "cell_type": "code",
   "execution_count": 188,
   "metadata": {},
   "outputs": [
    {
     "data": {
      "text/plain": [
       "['get_ipython', 'math', 'open', 'quit', 'random']"
      ]
     },
     "execution_count": 188,
     "metadata": {},
     "output_type": "execute_result"
    }
   ],
   "source": [
    "# 메모리의 변수 제거\n",
    "del var_01\n",
    "dir()[-5:]"
   ]
  },
  {
   "cell_type": "markdown",
   "metadata": {},
   "source": [
    "## 관계 연산자"
   ]
  },
  {
   "cell_type": "code",
   "execution_count": 189,
   "metadata": {},
   "outputs": [],
   "source": [
    "num1 = 100\n",
    "num2 = 20"
   ]
  },
  {
   "cell_type": "code",
   "execution_count": 190,
   "metadata": {},
   "outputs": [
    {
     "name": "stdout",
     "output_type": "stream",
     "text": [
      "False\n",
      "True\n",
      "True\n",
      "False\n",
      "True\n",
      "False\n"
     ]
    }
   ],
   "source": [
    "print(num1 == num2)\n",
    "print(num1 != num2)\n",
    "print(num1 > num2)\n",
    "print(num1 < num2)\n",
    "print(num1 >= num2)\n",
    "print(num1 <= num2)"
   ]
  },
  {
   "cell_type": "markdown",
   "metadata": {},
   "source": [
    "## 논리 연산자"
   ]
  },
  {
   "cell_type": "code",
   "execution_count": 191,
   "metadata": {},
   "outputs": [
    {
     "name": "stdout",
     "output_type": "stream",
     "text": [
      "False\n",
      "True\n",
      "False\n",
      "True\n"
     ]
    }
   ],
   "source": [
    "# 논리 연산자(& , |)\n",
    "print((num1 >= 50) & (num2 <= 10))\n",
    "print((num1 >= 50) | (num2 <= 10))\n",
    "\n",
    "print((num1 >= 50) and (num2 <= 10))\n",
    "print((num1 >= 50) or (num2 <= 10))"
   ]
  },
  {
   "cell_type": "markdown",
   "metadata": {},
   "source": [
    "## 부정 연산자"
   ]
  },
  {
   "cell_type": "code",
   "execution_count": 192,
   "metadata": {},
   "outputs": [
    {
     "data": {
      "text/plain": [
       "False"
      ]
     },
     "execution_count": 192,
     "metadata": {},
     "output_type": "execute_result"
    }
   ],
   "source": [
    "# 부정 연산자 : not\n",
    "not(num1 >= 50)"
   ]
  },
  {
   "cell_type": "markdown",
   "metadata": {},
   "source": [
    "## 문자열 자료형"
   ]
  },
  {
   "cell_type": "code",
   "execution_count": 216,
   "metadata": {},
   "outputs": [
    {
     "data": {
      "text/plain": [
       "'Hello World!'"
      ]
     },
     "execution_count": 216,
     "metadata": {},
     "output_type": "execute_result"
    }
   ],
   "source": [
    "# 기본형 (한 줄)\n",
    "var01 = \"Hello World!\"\n",
    "var01"
   ]
  },
  {
   "cell_type": "code",
   "execution_count": 217,
   "metadata": {},
   "outputs": [
    {
     "name": "stdout",
     "output_type": "stream",
     "text": [
      "\n",
      "    Hello World!\n",
      "    Good to Meet You!\n",
      "tab 없이도 출력 가능하다\n",
      "안에 적는 내용 그대로 출력\n",
      "\n"
     ]
    }
   ],
   "source": [
    "# 여러줄의 문자열 자료형\n",
    "var01 = \"\"\"\n",
    "    Hello World!\n",
    "    Good to Meet You!\n",
    "tab 없이도 출력 가능하다\n",
    "안에 적는 내용 그대로 출력\n",
    "\"\"\"\n",
    "var01\n",
    "print(var01)"
   ]
  },
  {
   "cell_type": "code",
   "execution_count": 218,
   "metadata": {},
   "outputs": [
    {
     "name": "stdout",
     "output_type": "stream",
     "text": [
      "My fathers wife is \n",
      "my mother.\n",
      "He says \t\"I love you.\"\n"
     ]
    }
   ],
   "source": [
    "# 쌍따옴표와 홑따옴표, \\n, \\t\n",
    "print(\"My fathers wife is \\nmy mother.\")\n",
    "print('He says \\t\"I love you.\"')"
   ]
  },
  {
   "cell_type": "code",
   "execution_count": 219,
   "metadata": {},
   "outputs": [
    {
     "name": "stdout",
     "output_type": "stream",
     "text": [
      "Pythonis fun.\n",
      "Python is fun.\n"
     ]
    }
   ],
   "source": [
    "# 여러 문자열 연결해서 출력 (+ or ,)\n",
    "var01 = \"Python\"\n",
    "var02 = \"is fun.\"\n",
    "print(var01 + var02)\n",
    "print(var01, var02)"
   ]
  },
  {
   "cell_type": "code",
   "execution_count": 220,
   "metadata": {},
   "outputs": [
    {
     "name": "stdout",
     "output_type": "stream",
     "text": [
      "PythonPythonPython\n"
     ]
    }
   ],
   "source": [
    "# 연속으로 같은 문자열 출력 (*)\n",
    "print(var01*3)"
   ]
  },
  {
   "cell_type": "markdown",
   "metadata": {},
   "source": [
    "### 문자열 Indexing과 Slicing"
   ]
  },
  {
   "cell_type": "code",
   "execution_count": 221,
   "metadata": {},
   "outputs": [
    {
     "name": "stdout",
     "output_type": "stream",
     "text": [
      "a\n",
      "abc\n",
      "n\n",
      "fghijklmn\n",
      "fghijkl\n",
      "fghijk\n"
     ]
    }
   ],
   "source": [
    "str = \"abcdefghijklmn\"\n",
    "\n",
    "print(str[0])           # indexing\n",
    "print(str[0:3])         # 0 ~ (3 - 1)번쨰 까지 출력\n",
    "print(str[-1])          # 가장 마지막 순서 인덱스 출력\n",
    "print(str[5:])          # 5번쨰 인덱스부터 끝까지 출력\n",
    "print(str[5:-2])        # 5번쨰 인덱스부터 끝의 2개 제외하고 출력\n",
    "print(str[5:-3])        # 5번쨰 인덱스부터 끝의 3개 제외하고 출력                                                             "
   ]
  },
  {
   "cell_type": "code",
   "execution_count": 227,
   "metadata": {},
   "outputs": [
    {
     "name": "stdout",
     "output_type": "stream",
     "text": [
      "[4, 5, 6]\n",
      "다\n"
     ]
    }
   ],
   "source": [
    "# 중첩 인덱싱\n",
    "mylist = [['가', '나', '다'], [4, 5, 6], 7, 8, 9]\n",
    "print(mylist[1])\n",
    "print(mylist[0][2])"
   ]
  },
  {
   "cell_type": "code",
   "execution_count": 230,
   "metadata": {},
   "outputs": [
    {
     "name": "stdout",
     "output_type": "stream",
     "text": [
      "[100, 300, 500]\n",
      "[500, 400, 300, 200, 100]\n",
      "[500, 300, 100]\n"
     ]
    }
   ],
   "source": [
    "# indexing -  Step 활용\n",
    "mylist = [100, 200, 300, 400, 500]\n",
    "print(mylist[::2])      # 2칸씩 건너 뛰기\n",
    "print(mylist[::-1])     # 역순으로 출력\n",
    "print(mylist[::-2])     # 역순으로 2칸씩 건너 뛰기"
   ]
  },
  {
   "cell_type": "code",
   "execution_count": 222,
   "metadata": {},
   "outputs": [
    {
     "name": "stdout",
     "output_type": "stream",
     "text": [
      "Snow\n"
     ]
    }
   ],
   "source": [
    "# 예제 : 2020 1229 Snow 출력되도록 하기\n",
    "str = \"20201229Snow\"\n",
    "print(str[-4:])\n",
    "print(str[:4])              # 처음 부터 4개 문자\n",
    "print(str[4:8])             # 인덱스 4번부터 (8-1)번째 까지 (8번쨰 전까지)\n",
    "print(str[8:])              # 인덱스 8번부터 끝까지\n",
    "print(str[:4], str[4:8], str[8:])"
   ]
  },
  {
   "cell_type": "code",
   "execution_count": 225,
   "metadata": {},
   "outputs": [
    {
     "name": "stdout",
     "output_type": "stream",
     "text": [
      "abcde\n"
     ]
    }
   ],
   "source": [
    "# 예제 : abcde 출력되도록 하기\n",
    "str = \"abbde\"\n",
    "print(str[:2] + \"c\" + str[3:])"
   ]
  },
  {
   "cell_type": "markdown",
   "metadata": {},
   "source": [
    "### 문자열 Formatting"
   ]
  },
  {
   "cell_type": "code",
   "execution_count": 232,
   "metadata": {},
   "outputs": [
    {
     "name": "stdout",
     "output_type": "stream",
     "text": [
      "I hane 2 apples.\n"
     ]
    }
   ],
   "source": [
    "# 정수 (d)\n",
    "print(\"I have %d apples.\"%2)"
   ]
  },
  {
   "cell_type": "code",
   "execution_count": 235,
   "metadata": {},
   "outputs": [
    {
     "name": "stdout",
     "output_type": "stream",
     "text": [
      "3.1416\n",
      "    3.1416\n"
     ]
    }
   ],
   "source": [
    "# 실수\n",
    "print(\"%0.4f\"%3.14159)              # 실수 소수점 아래 4자리 표현\n",
    "print(\"%10.4f\"%3.14159)             # 전체 10자리 실수 표현"
   ]
  },
  {
   "cell_type": "code",
   "execution_count": 233,
   "metadata": {},
   "outputs": [
    {
     "name": "stdout",
     "output_type": "stream",
     "text": [
      "I hane two apples.\n"
     ]
    }
   ],
   "source": [
    "# 문자열 (s)\n",
    "print(\"I have %s apples.\"%\"two\")"
   ]
  },
  {
   "cell_type": "code",
   "execution_count": 234,
   "metadata": {},
   "outputs": [
    {
     "name": "stdout",
     "output_type": "stream",
     "text": [
      "I have 2 apple\n"
     ]
    }
   ],
   "source": [
    "# 여러 개의 변수를 사용\n",
    "number = 2\n",
    "fruit = \"apple\"\n",
    "print(\"I have %d %s\"%(number, fruit))"
   ]
  },
  {
   "cell_type": "code",
   "execution_count": 236,
   "metadata": {},
   "outputs": [
    {
     "name": "stdout",
     "output_type": "stream",
     "text": [
      "I have 2     apples.\n",
      "I have 2 apples    .\n"
     ]
    }
   ],
   "source": [
    "# 문자열 정렬\n",
    "print(\"I have 2 %10s.\"%\"apples\")  # 우측 정렬(자릿수 10자리)\n",
    "print(\"I have 2 %-10s.\"%\"apples\") # 좌측 정렬(자릿수 10자리)"
   ]
  },
  {
   "cell_type": "markdown",
   "metadata": {},
   "source": [
    "### 고급 문자열 Formatting"
   ]
  },
  {
   "cell_type": "code",
   "execution_count": null,
   "metadata": {},
   "outputs": [],
   "source": [
    "# format 함수\n",
    "# 2:09:16"
   ]
  },
  {
   "cell_type": "code",
   "execution_count": null,
   "metadata": {},
   "outputs": [],
   "source": []
  },
  {
   "cell_type": "code",
   "execution_count": null,
   "metadata": {},
   "outputs": [],
   "source": []
  },
  {
   "cell_type": "code",
   "execution_count": null,
   "metadata": {},
   "outputs": [],
   "source": []
  },
  {
   "cell_type": "code",
   "execution_count": null,
   "metadata": {},
   "outputs": [],
   "source": []
  },
  {
   "cell_type": "markdown",
   "metadata": {},
   "source": [
    "### 문자열 관련 함수"
   ]
  },
  {
   "cell_type": "code",
   "execution_count": 237,
   "metadata": {},
   "outputs": [
    {
     "name": "stdout",
     "output_type": "stream",
     "text": [
      "3\n",
      "15\n"
     ]
    }
   ],
   "source": [
    "# count() & len() : 문자의 개수, 문자열의 길이 세는 함수\n",
    "str = \"I have a dream.\"\n",
    "print(str.count('a'))\n",
    "print(len(str))"
   ]
  },
  {
   "cell_type": "code",
   "execution_count": 239,
   "metadata": {},
   "outputs": [
    {
     "name": "stdout",
     "output_type": "stream",
     "text": [
      "5\n",
      "0\n",
      "-1\n",
      "e\n"
     ]
    }
   ],
   "source": [
    "# find() : 찾고자 하는 문자의 인덱스 반환\n",
    "print(str.find('e'))\n",
    "print(str.find('I'))\n",
    "print(str.find('x'))\n",
    "print(str[str.find('e')])    "
   ]
  },
  {
   "cell_type": "code",
   "execution_count": 240,
   "metadata": {},
   "outputs": [
    {
     "name": "stdout",
     "output_type": "stream",
     "text": [
      "11\n",
      "0\n",
      "-1\n",
      "e\n"
     ]
    }
   ],
   "source": [
    "# rfind() : 찾고자 하는 문자를 오른쪽부터 찾아서 인덱스 반환\n",
    "str = \"I have a dream.\"\n",
    "print(str.rfind('e'))\n",
    "print(str.rfind('I'))\n",
    "print(str.rfind('x'))\n",
    "print(str[str.rfind('e')])"
   ]
  },
  {
   "cell_type": "code",
   "execution_count": 241,
   "metadata": {},
   "outputs": [
    {
     "name": "stdout",
     "output_type": "stream",
     "text": [
      "False\n",
      "True\n",
      "False\n",
      "I\n"
     ]
    }
   ],
   "source": [
    "# startswith() : 접두사로 문장 찾기\n",
    "str = \"I have a dream.\"\n",
    "print(str.startswith('e'))\n",
    "print(str.startswith('I'))\n",
    "print(str.startswith('x'))\n",
    "print(str[str.startswith('e')])"
   ]
  },
  {
   "cell_type": "code",
   "execution_count": 242,
   "metadata": {},
   "outputs": [
    {
     "name": "stdout",
     "output_type": "stream",
     "text": [
      "False\n",
      "False\n",
      "False\n",
      "I\n"
     ]
    }
   ],
   "source": [
    "# endswith() : 접두사로 문장 찾기\n",
    "str = \"I have a dream.\"\n",
    "print(str.endswith('m'))\n",
    "print(str.endswith('I'))\n",
    "print(str.endswith('x'))\n",
    "print(str[str.endswith('e')])"
   ]
  },
  {
   "cell_type": "code",
   "execution_count": 244,
   "metadata": {},
   "outputs": [
    {
     "name": "stdout",
     "output_type": "stream",
     "text": [
      "A-B-C-D-E\n",
      "A**B**C**D**E\n",
      "A  B  C  D  E\n",
      "ABCDE\n"
     ]
    }
   ],
   "source": [
    "# join() : 문자열 합치기\n",
    "# 리스트 자료형 합치기\n",
    "li = ['A', 'B', 'C', 'D', 'E']\n",
    "print('-'.join(li))\n",
    "print('**'.join(li))\n",
    "print('  '.join(li))\n",
    "print(''.join(li))"
   ]
  },
  {
   "cell_type": "code",
   "execution_count": 245,
   "metadata": {},
   "outputs": [
    {
     "name": "stdout",
     "output_type": "stream",
     "text": [
      "1-2-3-4-5\n",
      "1**2**3**4**5\n",
      "1  2  3  4  5\n",
      "12345\n"
     ]
    }
   ],
   "source": [
    "# dictionary_key를 이용하여 합치기\n",
    "dic = {'1':'A', '2': 'B', '3': 'C', '4': 'D', '5': 'E'}\n",
    "print('-'.join(dic))\n",
    "print('**'.join(dic))\n",
    "print('  '.join(dic))\n",
    "print(''.join(dic))"
   ]
  },
  {
   "cell_type": "code",
   "execution_count": 247,
   "metadata": {},
   "outputs": [
    {
     "name": "stdout",
     "output_type": "stream",
     "text": [
      "HI\n",
      "hi\n"
     ]
    }
   ],
   "source": [
    "# upper() / lower()\n",
    "str = 'Hi'\n",
    "print(str.upper())\n",
    "print(str.lower())"
   ]
  },
  {
   "cell_type": "code",
   "execution_count": 252,
   "metadata": {},
   "outputs": [
    {
     "name": "stdout",
     "output_type": "stream",
     "text": [
      "hi\n",
      "hello\n",
      "hi   I am studying Python!\n"
     ]
    }
   ],
   "source": [
    "# 공백 제거\n",
    "# 오른쪽 공백 제거\n",
    "str = 'hi       '\n",
    "print(str.rstrip())\n",
    "\n",
    "# 공백 제거\n",
    "str = '       hello'\n",
    "print(str.lstrip())\n",
    "\n",
    "# 모든 공백 제거\n",
    "str = '   hi   I am studying Python!      '\n",
    "print(str.strip())"
   ]
  },
  {
   "cell_type": "code",
   "execution_count": 259,
   "metadata": {},
   "outputs": [
    {
     "name": "stdout",
     "output_type": "stream",
     "text": [
      "Hi this is Jin's studying \n",
      " this is Jin's studying notes.\n",
      " this is jin's studying \n"
     ]
    }
   ],
   "source": [
    "# 문자 제거\n",
    "str = \"Hi this is Jin's studying notes.\"\n",
    "print(str.rstrip('notes.'))\n",
    "print(str.lstrip('Hi'))\n",
    "print(str.lower().strip('itenosh.'))"
   ]
  },
  {
   "cell_type": "code",
   "execution_count": 261,
   "metadata": {},
   "outputs": [
    {
     "name": "stdout",
     "output_type": "stream",
     "text": [
      "Life is too short to be unhappy\n",
      "223333555555\n",
      "117733555555\n"
     ]
    }
   ],
   "source": [
    "# 문자열 바꾸기 : replace(바꾸고 싶은 문자열, 바꿀 내용)\n",
    "str = 'Life is too short to be happy'\n",
    "print(str.replace('happy', 'unhappy'))\n",
    "\n",
    "str = '113333555555'\n",
    "print(str.replace('1', '2'))\n",
    "print(str.replace('3', '7', 2))"
   ]
  },
  {
   "cell_type": "code",
   "execution_count": 264,
   "metadata": {},
   "outputs": [
    {
     "name": "stdout",
     "output_type": "stream",
     "text": [
      "split A :  ['1', '2', '3']\n",
      "A 리스트 요소 개수 :  5\n",
      "split B :  ['1', '2,3,4,5']\n",
      "B 리스트 요소 개수 :  9\n",
      "split C :  ['1', '2', '', '3', '']\n",
      "C 리스트 요소 개수 :  7\n"
     ]
    }
   ],
   "source": [
    "# split() : 문자열 분리\n",
    "A = '1,2,3'\n",
    "B = '1,2,3,4,5'\n",
    "C = '1,2,,3,'\n",
    "\n",
    "print(\"split A : \", A.split(','))\n",
    "print(\"A 리스트 요소 개수 : \", len(A))\n",
    "print(\"split B : \", B.split(',', maxsplit=1))\n",
    "print(\"B 리스트 요소 개수 : \", len(B))\n",
    "print(\"split C : \", C.split(','))\n",
    "print(\"C 리스트 요소 개수 : \", len(C))"
   ]
  }
 ],
 "metadata": {
  "kernelspec": {
   "display_name": "tensorflow",
   "language": "python",
   "name": "python3"
  },
  "language_info": {
   "codemirror_mode": {
    "name": "ipython",
    "version": 3
   },
   "file_extension": ".py",
   "mimetype": "text/x-python",
   "name": "python",
   "nbconvert_exporter": "python",
   "pygments_lexer": "ipython3",
   "version": "3.10.12"
  }
 },
 "nbformat": 4,
 "nbformat_minor": 2
}
